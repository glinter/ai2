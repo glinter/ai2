{
 "cells": [
  {
   "cell_type": "code",
   "execution_count": 33,
   "metadata": {
    "colab": {
     "base_uri": "https://localhost:8080/"
    },
    "executionInfo": {
     "elapsed": 467,
     "status": "ok",
     "timestamp": 1633957316324,
     "user": {
      "displayName": "이승연",
      "photoUrl": "https://lh3.googleusercontent.com/a/default-user=s64",
      "userId": "04501222278958998661"
     },
     "user_tz": -540
    },
    "id": "FKM-F-XG-t93",
    "outputId": "a7b41608-a9a4-46d4-c893-205dc5513d62"
   },
   "outputs": [
    {
     "name": "stdout",
     "output_type": "stream",
     "text": [
      "Drive already mounted at /content/drive; to attempt to forcibly remount, call drive.mount(\"/content/drive\", force_remount=True).\n"
     ]
    }
   ],
   "source": [
    "from google.colab import drive\n",
    "drive.mount('/content/drive')\n",
    "\n",
    "basic_path = '/content/drive/MyDrive/test/'"
   ]
  },
  {
   "cell_type": "code",
   "execution_count": 34,
   "metadata": {
    "executionInfo": {
     "elapsed": 16,
     "status": "ok",
     "timestamp": 1633957316870,
     "user": {
      "displayName": "이승연",
      "photoUrl": "https://lh3.googleusercontent.com/a/default-user=s64",
      "userId": "04501222278958998661"
     },
     "user_tz": -540
    },
    "id": "OEqDNedyMeXu"
   },
   "outputs": [],
   "source": [
    "# 라이브러리 import\n",
    "import torch\n",
    "import torch.nn as nn\n",
    "from torch.utils.data import DataLoader\n",
    "from torchvision import datasets\n",
    "import torchvision.transforms as transforms\n",
    "import matplotlib.pyplot as plt\n",
    "import numpy as np\n",
    "import torch.nn.functional as F"
   ]
  },
  {
   "cell_type": "code",
   "execution_count": 35,
   "metadata": {
    "executionInfo": {
     "elapsed": 16,
     "status": "ok",
     "timestamp": 1633957316871,
     "user": {
      "displayName": "이승연",
      "photoUrl": "https://lh3.googleusercontent.com/a/default-user=s64",
      "userId": "04501222278958998661"
     },
     "user_tz": -540
    },
    "id": "fvEjH9ImMeav"
   },
   "outputs": [],
   "source": [
    "def get_device():\n",
    "    return torch.device('cuda' if torch.cuda.is_available() else 'cpu')"
   ]
  },
  {
   "cell_type": "code",
   "execution_count": 36,
   "metadata": {
    "executionInfo": {
     "elapsed": 16,
     "status": "ok",
     "timestamp": 1633957316872,
     "user": {
      "displayName": "이승연",
      "photoUrl": "https://lh3.googleusercontent.com/a/default-user=s64",
      "userId": "04501222278958998661"
     },
     "user_tz": -540
    },
    "id": "itiUbxJgMeeM"
   },
   "outputs": [],
   "source": [
    "def get_mean_std(channel, training_dataset):\n",
    "  if channel.lower() is 'rgb':\n",
    "    mean_rgb = [np.mean(x.numpy(), axis=(1, 2)) for x,_ in training_dataset] # (1, 2) 기준으로 평균값 계산. size: 6,0000\n",
    "    std_rgb = [np.std(x.numpy(), axis=(1, 2)) for x,_ in training_dataset] # 표준편차 계산\n",
    "    \n",
    "#    예시\n",
    "#     >>> import numpy as np\n",
    "#     >>> arr = [ [[1, 2, 3], [3, 4, 5], [6, 7, 8]], [[1, 2, 3], [3, 1, 5], [6, 7, 8]], [[1, 2, 3], [3, 7, 5], [6, 7, 8]] ]\n",
    "#     >>> np_arr = np.asarray(arr)\n",
    "#     >>> np_arr.shape\n",
    "#     (3, 3, 3)\n",
    "#     >>> np.mean(np_arr, axis=(1, 2))\n",
    "#     array([4.33333333, 4.        , 4.66666667])\n",
    "#\n",
    "#     (1 + 2 + 3 + 3 + 4 + 5 + 6 + 7 + 8) / 9. (1 + 2 + 3 + 3 + 1 + 5 + 6 + 7 + 8) / 9, (1 + 2 + 3 + 3 + 7 + 5 + 6 + 7 + 8) / 9\n",
    "\n",
    "    mean_r = np.mean([m[0] for m in mean_rgb])\n",
    "    mean_g = np.mean([m[1] for m in mean_rgb])\n",
    "    mean_b = np.mean([m[2] for m in mean_rgb])\n",
    "\n",
    "    std_r = np.mean([s[0] for s in std_rgb])\n",
    "    std_g = np.mean([s[1] for s in std_rgb])\n",
    "    std_b = np.mean([s[2] for s in std_rgb])\n",
    "    return [mean_r, mean_g, mean_b], [std_r, std_g, std_b]\n",
    "  else:\n",
    "    mean = [np.mean(x.numpy(), axis=(1, 2)) for x,_ in training_dataset]\n",
    "    std = [np.std(x.numpy(), axis=(1, 2)) for x,_ in training_dataset]\n",
    "\n",
    "    return np.mean([m[0] for m in mean]), np.mean([s[0] for s in std])"
   ]
  },
  {
   "cell_type": "markdown",
   "metadata": {
    "id": "jEULsgHOg_3a"
   },
   "source": [
    "### ResNet 구현"
   ]
  },
  {
   "cell_type": "code",
   "execution_count": 37,
   "metadata": {
    "executionInfo": {
     "elapsed": 17,
     "status": "ok",
     "timestamp": 1633957316873,
     "user": {
      "displayName": "이승연",
      "photoUrl": "https://lh3.googleusercontent.com/a/default-user=s64",
      "userId": "04501222278958998661"
     },
     "user_tz": -540
    },
    "id": "Cx1KitNt4nzD"
   },
   "outputs": [],
   "source": [
    "class BottleNeckBlock(nn.Module):\n",
    "  def __init__(self, input_channel_size, output_channel_size, stride):\n",
    "    super(BottleNeckBlock, self).__init__()\n",
    "    self.residual_func = nn.Sequential(\n",
    "            nn.Conv2d(in_channels=input_channel_size, out_channels=output_channel_size, kernel_size=1, stride=1, bias=False),\n",
    "            nn.BatchNorm2d(output_channel_size),\n",
    "            nn.ReLU(inplace=True),\n",
    "\n",
    "            nn.Conv2d(in_channels=output_channel_size, out_channels=output_channel_size, kernel_size=3, stride=stride, padding=1, bias=False),\n",
    "            nn.BatchNorm2d(output_channel_size),\n",
    "            nn.ReLU(inplace=True),\n",
    "\n",
    "            nn.Conv2d(in_channels=output_channel_size, out_channels=(output_channel_size * 4), kernel_size=1, stride=1, bias=False),\n",
    "            nn.BatchNorm2d(output_channel_size * 4),\n",
    "        )\n",
    "    self.myReLU = nn.ReLU()\n",
    "    self.shortcut = nn.Sequential()\n",
    "    \n",
    "    # 일부 Layer들을 건너뛰기 위함. stride가 1이 아니거나, input_channel이 마지막 layer의 output_size와 같지 않을 때 추가\n",
    "    if (stride != 1) or (input_channel_size != (output_channel_size * 4)):\n",
    "      self.shortcut = nn.Sequential(\n",
    "            nn.Conv2d(input_channel_size, (output_channel_size * 4), kernel_size=1, stride=stride, bias=False),\n",
    "            nn.BatchNorm2d(output_channel_size * 4)\n",
    "        )\n",
    "  \n",
    "  def forward(self, x):\n",
    "    x = self.residual_func(x) + self.shortcut(x)\n",
    "    x = self.myReLU(x)\n",
    "    return x"
   ]
  },
  {
   "cell_type": "code",
   "execution_count": 38,
   "metadata": {
    "executionInfo": {
     "elapsed": 18,
     "status": "ok",
     "timestamp": 1633957316874,
     "user": {
      "displayName": "이승연",
      "photoUrl": "https://lh3.googleusercontent.com/a/default-user=s64",
      "userId": "04501222278958998661"
     },
     "user_tz": -540
    },
    "id": "IFjlSMHoMehT"
   },
   "outputs": [],
   "source": [
    "class MyResNet(nn.Module):\n",
    "  def __init__(self, size_of_channel, number_of_class):\n",
    "    super(MyResNet, self).__init__()\n",
    "    self.base_input_channel = 64\n",
    "    self.conv1 = nn.Sequential(\n",
    "        nn.Conv2d(size_of_channel, out_channels=64, kernel_size=7, stride=2, padding=3, bias=False),\n",
    "        nn.BatchNorm2d(64),\n",
    "        nn.ReLU(inplace=True),\n",
    "        nn.MaxPool2d(kernel_size=3, stride=2, padding=1),\n",
    "    )\n",
    "    # ResNet 50\n",
    "    self.conv2 = self.__generate_bottleneck_layer__(64, number_of_layer=3, base_stride=1)\n",
    "    self.conv3 = self.__generate_bottleneck_layer__(128, number_of_layer=4)\n",
    "    self.conv4 = self.__generate_bottleneck_layer__(256, number_of_layer=6)\n",
    "    self.conv5 = self.__generate_bottleneck_layer__(512, number_of_layer=3)\n",
    "\n",
    "    self.avg_pool = nn.AdaptiveAvgPool2d((1, 1))\n",
    "    self.fc = nn.Linear(2048, number_of_class)\n",
    "\n",
    "    self.__init_weights__()\n",
    "\n",
    "  def __generate_bottleneck_layer__(self, output_channel_size, number_of_layer, base_stride=2):\n",
    "    strides = [base_stride] + [1] * (number_of_layer - 1)\n",
    "    layers = []\n",
    "    for stride in strides:\n",
    "        layer = BottleNeckBlock(self.base_input_channel, output_channel_size, stride)\n",
    "        self.base_input_channel = output_channel_size * 4\n",
    "        layers.append(layer)\n",
    "    return nn.Sequential(*layers)\n",
    "  \n",
    "  def __init_weights__(self):\n",
    "    for m in self.modules():\n",
    "      if isinstance(m, nn.Conv2d):\n",
    "        nn.init.kaiming_normal_(m.weight, mode='fan_out', nonlinearity='relu')\n",
    "        if m.bias is not None:\n",
    "          nn.init.constant_(m.bias, 0)\n",
    "      elif isinstance(m, nn.BatchNorm2d):\n",
    "        nn.init.constant_(m.weight, 1)\n",
    "        nn.init.constant_(m.bias, 0)\n",
    "      elif isinstance(m, nn.Linear):\n",
    "        nn.init.normal_(m.weight, 0, 0.01)\n",
    "        nn.init.constant_(m.bias, 0)\n",
    "\n",
    "  def forward(self, x):\n",
    "    output = self.conv1(x)\n",
    "    output = self.conv2(output)\n",
    "    x = self.conv3(output)\n",
    "    x = self.conv4(x)\n",
    "    x = self.conv5(x)\n",
    "    x = self.avg_pool(x)\n",
    "    x = x.view(x.size(0), -1) # Tensor의 차원을 1차원으로 변경\n",
    "    x = self.fc(x)\n",
    "    return x"
   ]
  },
  {
   "cell_type": "markdown",
   "metadata": {
    "id": "cDgyvjoug8hO"
   },
   "source": [
    "### Train / Test 코드"
   ]
  },
  {
   "cell_type": "code",
   "execution_count": 39,
   "metadata": {
    "executionInfo": {
     "elapsed": 18,
     "status": "ok",
     "timestamp": 1633957316875,
     "user": {
      "displayName": "이승연",
      "photoUrl": "https://lh3.googleusercontent.com/a/default-user=s64",
      "userId": "04501222278958998661"
     },
     "user_tz": -540
    },
    "id": "mHtWBQpGeozR"
   },
   "outputs": [],
   "source": [
    "def train(device, dataloader, model, loss_fn, optimizer):\n",
    "    size = len(dataloader.dataset)\n",
    "    model.train()\n",
    "    \n",
    "    for batch, (X, y) in enumerate(dataloader):\n",
    "      X, y = X.to(device), y.to(device)\n",
    "      \n",
    "      pred = model(X.cuda())\n",
    "      loss = loss_fn(pred, y)\n",
    "      \n",
    "      optimizer.zero_grad()\n",
    "      loss.backward()\n",
    "      optimizer.step()\n",
    "      \n",
    "      print('.', end='')\n",
    "      if batch % 100 == 0:\n",
    "          print()\n",
    "          loss, current = loss.item(), batch*len(X)\n",
    "          print(f'loss: {loss:>7f}   [{current:>5d}/{size:>5d}]')"
   ]
  },
  {
   "cell_type": "code",
   "execution_count": 40,
   "metadata": {
    "executionInfo": {
     "elapsed": 18,
     "status": "ok",
     "timestamp": 1633957316876,
     "user": {
      "displayName": "이승연",
      "photoUrl": "https://lh3.googleusercontent.com/a/default-user=s64",
      "userId": "04501222278958998661"
     },
     "user_tz": -540
    },
    "id": "EzE5-jPBeo-p"
   },
   "outputs": [],
   "source": [
    "def test(device, dataloader, model, loss_fn):\n",
    "    size = len(dataloader.dataset)\n",
    "    num_batches = len(dataloader)\n",
    "    model.eval()\n",
    "    \n",
    "    test_loss, correct = 0, 0\n",
    "    with torch.no_grad():\n",
    "        for X, y in dataloader:\n",
    "            X, y = X.to(device), y.to(device)\n",
    "            \n",
    "            pred = model(X)\n",
    "            test_loss += loss_fn(pred, y).item()\n",
    "            correct += (pred.argmax(1) == y).type(torch.float).sum().item()\n",
    "    test_loss /= num_batches\n",
    "    correct /= size\n",
    "    print(f'Test Error: \\n Accuracy: {(100*correct):>0.1f}%, Avg loass: {test_loss:>8f}\\n')"
   ]
  },
  {
   "cell_type": "markdown",
   "metadata": {
    "id": "UGUdQS81gKoe"
   },
   "source": [
    "### Model - Fashion MNIST"
   ]
  },
  {
   "cell_type": "code",
   "execution_count": 41,
   "metadata": {
    "colab": {
     "base_uri": "https://localhost:8080/"
    },
    "executionInfo": {
     "elapsed": 18,
     "status": "ok",
     "timestamp": 1633957316877,
     "user": {
      "displayName": "이승연",
      "photoUrl": "https://lh3.googleusercontent.com/a/default-user=s64",
      "userId": "04501222278958998661"
     },
     "user_tz": -540
    },
    "id": "umFI1-dcMekb",
    "outputId": "3515038b-e6a9-4256-c50e-e9b7f8edfd9f"
   },
   "outputs": [
    {
     "name": "stdout",
     "output_type": "stream",
     "text": [
      "Device: cuda\n"
     ]
    }
   ],
   "source": [
    "device = get_device()\n",
    "print('Device:', device)"
   ]
  },
  {
   "cell_type": "code",
   "execution_count": 42,
   "metadata": {
    "executionInfo": {
     "elapsed": 20319,
     "status": "ok",
     "timestamp": 1633957337182,
     "user": {
      "displayName": "이승연",
      "photoUrl": "https://lh3.googleusercontent.com/a/default-user=s64",
      "userId": "04501222278958998661"
     },
     "user_tz": -540
    },
    "id": "v02wYGFReMAs"
   },
   "outputs": [],
   "source": [
    "training_dataset_fashion = datasets.FashionMNIST(\n",
    "    root=basic_path + '/data', train=True, download=True, transform=transforms.ToTensor(),\n",
    ")\n",
    "test_dataset_fashion = datasets.FashionMNIST(\n",
    "    root=basic_path + '/data', train=False, download=True, transform=transforms.ToTensor(),\n",
    ")\n",
    "\n",
    "gray_scale_mean, gray_scale_std = get_mean_std('gray', training_dataset_fashion)\n",
    "gray_scale_transform = transforms.Compose([\n",
    "  transforms.ToTensor(),\n",
    "  transforms.Resize(224),\n",
    "  transforms.Normalize(mean=[gray_scale_mean], std=[gray_scale_std])\n",
    "])\n",
    "training_dataset_fashion.transform = gray_scale_transform\n",
    "test_dataset_fashion.transform = gray_scale_transform"
   ]
  },
  {
   "cell_type": "code",
   "execution_count": 43,
   "metadata": {
    "colab": {
     "base_uri": "https://localhost:8080/"
    },
    "executionInfo": {
     "elapsed": 14,
     "status": "ok",
     "timestamp": 1633957337183,
     "user": {
      "displayName": "이승연",
      "photoUrl": "https://lh3.googleusercontent.com/a/default-user=s64",
      "userId": "04501222278958998661"
     },
     "user_tz": -540
    },
    "id": "pMqgITtteMER",
    "outputId": "80e7df2a-e3b4-4364-fec4-834c3e561682"
   },
   "outputs": [
    {
     "name": "stdout",
     "output_type": "stream",
     "text": [
      "Shape of X [N, C, H, W]: torch.Size([64, 1, 224, 224])\n",
      "Shape of y: torch.Size([64]) torch.int64\n"
     ]
    }
   ],
   "source": [
    "training_dataloader_fashion = DataLoader(training_dataset_fashion, batch_size=64)\n",
    "test_dataloader_fashion = DataLoader(test_dataset_fashion, batch_size=64)\n",
    "\n",
    "for X, y in test_dataloader_fashion:\n",
    "  print('Shape of X [N, C, H, W]:', X.shape)\n",
    "  print('Shape of y:', y.shape, y.dtype)\n",
    "  break"
   ]
  },
  {
   "cell_type": "code",
   "execution_count": 44,
   "metadata": {
    "executionInfo": {
     "elapsed": 752,
     "status": "ok",
     "timestamp": 1633957337928,
     "user": {
      "displayName": "이승연",
      "photoUrl": "https://lh3.googleusercontent.com/a/default-user=s64",
      "userId": "04501222278958998661"
     },
     "user_tz": -540
    },
    "id": "FBK7SyyIh7rU"
   },
   "outputs": [],
   "source": [
    "model_fashion = MyResNet(1, len(datasets.FashionMNIST.classes))\n",
    "model_fashion = model_fashion.to(device)"
   ]
  },
  {
   "cell_type": "code",
   "execution_count": 45,
   "metadata": {
    "executionInfo": {
     "elapsed": 1027,
     "status": "ok",
     "timestamp": 1633957338952,
     "user": {
      "displayName": "이승연",
      "photoUrl": "https://lh3.googleusercontent.com/a/default-user=s64",
      "userId": "04501222278958998661"
     },
     "user_tz": -540
    },
    "id": "k9DS_M_YcKMr"
   },
   "outputs": [],
   "source": [
    "# Cuda out of memory\n",
    "import gc\n",
    "gc.collect()\n",
    "torch.cuda.empty_cache()"
   ]
  },
  {
   "cell_type": "code",
   "execution_count": 46,
   "metadata": {
    "colab": {
     "base_uri": "https://localhost:8080/"
    },
    "executionInfo": {
     "elapsed": 9,
     "status": "ok",
     "timestamp": 1633957338953,
     "user": {
      "displayName": "이승연",
      "photoUrl": "https://lh3.googleusercontent.com/a/default-user=s64",
      "userId": "04501222278958998661"
     },
     "user_tz": -540
    },
    "id": "JkkuQZuOjLMe",
    "outputId": "f7db18e3-88b3-4505-c154-07de1015f087"
   },
   "outputs": [
    {
     "name": "stdout",
     "output_type": "stream",
     "text": [
      "----------------------------------------------------------------\n",
      "        Layer (type)               Output Shape         Param #\n",
      "================================================================\n",
      "            Conv2d-1         [-1, 64, 112, 112]           3,136\n",
      "       BatchNorm2d-2         [-1, 64, 112, 112]             128\n",
      "              ReLU-3         [-1, 64, 112, 112]               0\n",
      "         MaxPool2d-4           [-1, 64, 56, 56]               0\n",
      "            Conv2d-5           [-1, 64, 56, 56]           4,096\n",
      "       BatchNorm2d-6           [-1, 64, 56, 56]             128\n",
      "              ReLU-7           [-1, 64, 56, 56]               0\n",
      "            Conv2d-8           [-1, 64, 56, 56]          36,864\n",
      "       BatchNorm2d-9           [-1, 64, 56, 56]             128\n",
      "             ReLU-10           [-1, 64, 56, 56]               0\n",
      "           Conv2d-11          [-1, 256, 56, 56]          16,384\n",
      "      BatchNorm2d-12          [-1, 256, 56, 56]             512\n",
      "           Conv2d-13          [-1, 256, 56, 56]          16,384\n",
      "      BatchNorm2d-14          [-1, 256, 56, 56]             512\n",
      "             ReLU-15          [-1, 256, 56, 56]               0\n",
      "  BottleNeckBlock-16          [-1, 256, 56, 56]               0\n",
      "           Conv2d-17           [-1, 64, 56, 56]          16,384\n",
      "      BatchNorm2d-18           [-1, 64, 56, 56]             128\n",
      "             ReLU-19           [-1, 64, 56, 56]               0\n",
      "           Conv2d-20           [-1, 64, 56, 56]          36,864\n",
      "      BatchNorm2d-21           [-1, 64, 56, 56]             128\n",
      "             ReLU-22           [-1, 64, 56, 56]               0\n",
      "           Conv2d-23          [-1, 256, 56, 56]          16,384\n",
      "      BatchNorm2d-24          [-1, 256, 56, 56]             512\n",
      "             ReLU-25          [-1, 256, 56, 56]               0\n",
      "  BottleNeckBlock-26          [-1, 256, 56, 56]               0\n",
      "           Conv2d-27           [-1, 64, 56, 56]          16,384\n",
      "      BatchNorm2d-28           [-1, 64, 56, 56]             128\n",
      "             ReLU-29           [-1, 64, 56, 56]               0\n",
      "           Conv2d-30           [-1, 64, 56, 56]          36,864\n",
      "      BatchNorm2d-31           [-1, 64, 56, 56]             128\n",
      "             ReLU-32           [-1, 64, 56, 56]               0\n",
      "           Conv2d-33          [-1, 256, 56, 56]          16,384\n",
      "      BatchNorm2d-34          [-1, 256, 56, 56]             512\n",
      "             ReLU-35          [-1, 256, 56, 56]               0\n",
      "  BottleNeckBlock-36          [-1, 256, 56, 56]               0\n",
      "           Conv2d-37          [-1, 128, 56, 56]          32,768\n",
      "      BatchNorm2d-38          [-1, 128, 56, 56]             256\n",
      "             ReLU-39          [-1, 128, 56, 56]               0\n",
      "           Conv2d-40          [-1, 128, 28, 28]         147,456\n",
      "      BatchNorm2d-41          [-1, 128, 28, 28]             256\n",
      "             ReLU-42          [-1, 128, 28, 28]               0\n",
      "           Conv2d-43          [-1, 512, 28, 28]          65,536\n",
      "      BatchNorm2d-44          [-1, 512, 28, 28]           1,024\n",
      "           Conv2d-45          [-1, 512, 28, 28]         131,072\n",
      "      BatchNorm2d-46          [-1, 512, 28, 28]           1,024\n",
      "             ReLU-47          [-1, 512, 28, 28]               0\n",
      "  BottleNeckBlock-48          [-1, 512, 28, 28]               0\n",
      "           Conv2d-49          [-1, 128, 28, 28]          65,536\n",
      "      BatchNorm2d-50          [-1, 128, 28, 28]             256\n",
      "             ReLU-51          [-1, 128, 28, 28]               0\n",
      "           Conv2d-52          [-1, 128, 28, 28]         147,456\n",
      "      BatchNorm2d-53          [-1, 128, 28, 28]             256\n",
      "             ReLU-54          [-1, 128, 28, 28]               0\n",
      "           Conv2d-55          [-1, 512, 28, 28]          65,536\n",
      "      BatchNorm2d-56          [-1, 512, 28, 28]           1,024\n",
      "             ReLU-57          [-1, 512, 28, 28]               0\n",
      "  BottleNeckBlock-58          [-1, 512, 28, 28]               0\n",
      "           Conv2d-59          [-1, 128, 28, 28]          65,536\n",
      "      BatchNorm2d-60          [-1, 128, 28, 28]             256\n",
      "             ReLU-61          [-1, 128, 28, 28]               0\n",
      "           Conv2d-62          [-1, 128, 28, 28]         147,456\n",
      "      BatchNorm2d-63          [-1, 128, 28, 28]             256\n",
      "             ReLU-64          [-1, 128, 28, 28]               0\n",
      "           Conv2d-65          [-1, 512, 28, 28]          65,536\n",
      "      BatchNorm2d-66          [-1, 512, 28, 28]           1,024\n",
      "             ReLU-67          [-1, 512, 28, 28]               0\n",
      "  BottleNeckBlock-68          [-1, 512, 28, 28]               0\n",
      "           Conv2d-69          [-1, 128, 28, 28]          65,536\n",
      "      BatchNorm2d-70          [-1, 128, 28, 28]             256\n",
      "             ReLU-71          [-1, 128, 28, 28]               0\n",
      "           Conv2d-72          [-1, 128, 28, 28]         147,456\n",
      "      BatchNorm2d-73          [-1, 128, 28, 28]             256\n",
      "             ReLU-74          [-1, 128, 28, 28]               0\n",
      "           Conv2d-75          [-1, 512, 28, 28]          65,536\n",
      "      BatchNorm2d-76          [-1, 512, 28, 28]           1,024\n",
      "             ReLU-77          [-1, 512, 28, 28]               0\n",
      "  BottleNeckBlock-78          [-1, 512, 28, 28]               0\n",
      "           Conv2d-79          [-1, 256, 28, 28]         131,072\n",
      "      BatchNorm2d-80          [-1, 256, 28, 28]             512\n",
      "             ReLU-81          [-1, 256, 28, 28]               0\n",
      "           Conv2d-82          [-1, 256, 14, 14]         589,824\n",
      "      BatchNorm2d-83          [-1, 256, 14, 14]             512\n",
      "             ReLU-84          [-1, 256, 14, 14]               0\n",
      "           Conv2d-85         [-1, 1024, 14, 14]         262,144\n",
      "      BatchNorm2d-86         [-1, 1024, 14, 14]           2,048\n",
      "           Conv2d-87         [-1, 1024, 14, 14]         524,288\n",
      "      BatchNorm2d-88         [-1, 1024, 14, 14]           2,048\n",
      "             ReLU-89         [-1, 1024, 14, 14]               0\n",
      "  BottleNeckBlock-90         [-1, 1024, 14, 14]               0\n",
      "           Conv2d-91          [-1, 256, 14, 14]         262,144\n",
      "      BatchNorm2d-92          [-1, 256, 14, 14]             512\n",
      "             ReLU-93          [-1, 256, 14, 14]               0\n",
      "           Conv2d-94          [-1, 256, 14, 14]         589,824\n",
      "      BatchNorm2d-95          [-1, 256, 14, 14]             512\n",
      "             ReLU-96          [-1, 256, 14, 14]               0\n",
      "           Conv2d-97         [-1, 1024, 14, 14]         262,144\n",
      "      BatchNorm2d-98         [-1, 1024, 14, 14]           2,048\n",
      "             ReLU-99         [-1, 1024, 14, 14]               0\n",
      " BottleNeckBlock-100         [-1, 1024, 14, 14]               0\n",
      "          Conv2d-101          [-1, 256, 14, 14]         262,144\n",
      "     BatchNorm2d-102          [-1, 256, 14, 14]             512\n",
      "            ReLU-103          [-1, 256, 14, 14]               0\n",
      "          Conv2d-104          [-1, 256, 14, 14]         589,824\n",
      "     BatchNorm2d-105          [-1, 256, 14, 14]             512\n",
      "            ReLU-106          [-1, 256, 14, 14]               0\n",
      "          Conv2d-107         [-1, 1024, 14, 14]         262,144\n",
      "     BatchNorm2d-108         [-1, 1024, 14, 14]           2,048\n",
      "            ReLU-109         [-1, 1024, 14, 14]               0\n",
      " BottleNeckBlock-110         [-1, 1024, 14, 14]               0\n",
      "          Conv2d-111          [-1, 256, 14, 14]         262,144\n",
      "     BatchNorm2d-112          [-1, 256, 14, 14]             512\n",
      "            ReLU-113          [-1, 256, 14, 14]               0\n",
      "          Conv2d-114          [-1, 256, 14, 14]         589,824\n",
      "     BatchNorm2d-115          [-1, 256, 14, 14]             512\n",
      "            ReLU-116          [-1, 256, 14, 14]               0\n",
      "          Conv2d-117         [-1, 1024, 14, 14]         262,144\n",
      "     BatchNorm2d-118         [-1, 1024, 14, 14]           2,048\n",
      "            ReLU-119         [-1, 1024, 14, 14]               0\n",
      " BottleNeckBlock-120         [-1, 1024, 14, 14]               0\n",
      "          Conv2d-121          [-1, 256, 14, 14]         262,144\n",
      "     BatchNorm2d-122          [-1, 256, 14, 14]             512\n",
      "            ReLU-123          [-1, 256, 14, 14]               0\n",
      "          Conv2d-124          [-1, 256, 14, 14]         589,824\n",
      "     BatchNorm2d-125          [-1, 256, 14, 14]             512\n",
      "            ReLU-126          [-1, 256, 14, 14]               0\n",
      "          Conv2d-127         [-1, 1024, 14, 14]         262,144\n",
      "     BatchNorm2d-128         [-1, 1024, 14, 14]           2,048\n",
      "            ReLU-129         [-1, 1024, 14, 14]               0\n",
      " BottleNeckBlock-130         [-1, 1024, 14, 14]               0\n",
      "          Conv2d-131          [-1, 256, 14, 14]         262,144\n",
      "     BatchNorm2d-132          [-1, 256, 14, 14]             512\n",
      "            ReLU-133          [-1, 256, 14, 14]               0\n",
      "          Conv2d-134          [-1, 256, 14, 14]         589,824\n",
      "     BatchNorm2d-135          [-1, 256, 14, 14]             512\n",
      "            ReLU-136          [-1, 256, 14, 14]               0\n",
      "          Conv2d-137         [-1, 1024, 14, 14]         262,144\n",
      "     BatchNorm2d-138         [-1, 1024, 14, 14]           2,048\n",
      "            ReLU-139         [-1, 1024, 14, 14]               0\n",
      " BottleNeckBlock-140         [-1, 1024, 14, 14]               0\n",
      "          Conv2d-141          [-1, 512, 14, 14]         524,288\n",
      "     BatchNorm2d-142          [-1, 512, 14, 14]           1,024\n",
      "            ReLU-143          [-1, 512, 14, 14]               0\n",
      "          Conv2d-144            [-1, 512, 7, 7]       2,359,296\n",
      "     BatchNorm2d-145            [-1, 512, 7, 7]           1,024\n",
      "            ReLU-146            [-1, 512, 7, 7]               0\n",
      "          Conv2d-147           [-1, 2048, 7, 7]       1,048,576\n",
      "     BatchNorm2d-148           [-1, 2048, 7, 7]           4,096\n",
      "          Conv2d-149           [-1, 2048, 7, 7]       2,097,152\n",
      "     BatchNorm2d-150           [-1, 2048, 7, 7]           4,096\n",
      "            ReLU-151           [-1, 2048, 7, 7]               0\n",
      " BottleNeckBlock-152           [-1, 2048, 7, 7]               0\n",
      "          Conv2d-153            [-1, 512, 7, 7]       1,048,576\n",
      "     BatchNorm2d-154            [-1, 512, 7, 7]           1,024\n",
      "            ReLU-155            [-1, 512, 7, 7]               0\n",
      "          Conv2d-156            [-1, 512, 7, 7]       2,359,296\n",
      "     BatchNorm2d-157            [-1, 512, 7, 7]           1,024\n",
      "            ReLU-158            [-1, 512, 7, 7]               0\n",
      "          Conv2d-159           [-1, 2048, 7, 7]       1,048,576\n",
      "     BatchNorm2d-160           [-1, 2048, 7, 7]           4,096\n",
      "            ReLU-161           [-1, 2048, 7, 7]               0\n",
      " BottleNeckBlock-162           [-1, 2048, 7, 7]               0\n",
      "          Conv2d-163            [-1, 512, 7, 7]       1,048,576\n",
      "     BatchNorm2d-164            [-1, 512, 7, 7]           1,024\n",
      "            ReLU-165            [-1, 512, 7, 7]               0\n",
      "          Conv2d-166            [-1, 512, 7, 7]       2,359,296\n",
      "     BatchNorm2d-167            [-1, 512, 7, 7]           1,024\n",
      "            ReLU-168            [-1, 512, 7, 7]               0\n",
      "          Conv2d-169           [-1, 2048, 7, 7]       1,048,576\n",
      "     BatchNorm2d-170           [-1, 2048, 7, 7]           4,096\n",
      "            ReLU-171           [-1, 2048, 7, 7]               0\n",
      " BottleNeckBlock-172           [-1, 2048, 7, 7]               0\n",
      "AdaptiveAvgPool2d-173           [-1, 2048, 1, 1]               0\n",
      "          Linear-174                   [-1, 10]          20,490\n",
      "================================================================\n",
      "Total params: 23,522,250\n",
      "Trainable params: 23,522,250\n",
      "Non-trainable params: 0\n",
      "----------------------------------------------------------------\n",
      "Input size (MB): 0.19\n",
      "Forward/backward pass size (MB): 286.55\n",
      "Params size (MB): 89.73\n",
      "Estimated Total Size (MB): 376.47\n",
      "----------------------------------------------------------------\n"
     ]
    }
   ],
   "source": [
    "from torchsummary import summary\n",
    "\n",
    "summary(model_fashion, input_size=(1, 224, 224))"
   ]
  },
  {
   "cell_type": "code",
   "execution_count": 47,
   "metadata": {
    "executionInfo": {
     "elapsed": 6,
     "status": "ok",
     "timestamp": 1633957338954,
     "user": {
      "displayName": "이승연",
      "photoUrl": "https://lh3.googleusercontent.com/a/default-user=s64",
      "userId": "04501222278958998661"
     },
     "user_tz": -540
    },
    "id": "7nyllKB1cQcp"
   },
   "outputs": [],
   "source": [
    "import gc\n",
    "gc.collect()\n",
    "torch.cuda.empty_cache()"
   ]
  },
  {
   "cell_type": "code",
   "execution_count": 48,
   "metadata": {
    "colab": {
     "base_uri": "https://localhost:8080/"
    },
    "executionInfo": {
     "elapsed": 7251567,
     "status": "ok",
     "timestamp": 1633964590516,
     "user": {
      "displayName": "이승연",
      "photoUrl": "https://lh3.googleusercontent.com/a/default-user=s64",
      "userId": "04501222278958998661"
     },
     "user_tz": -540
    },
    "id": "mPhX1IlmeMHJ",
    "outputId": "57ea2b13-c05b-486c-c454-7b56069c435e"
   },
   "outputs": [
    {
     "name": "stdout",
     "output_type": "stream",
     "text": [
      "Epoch 1\n",
      "---------------------------------\n",
      ".\n",
      "loss: 154.193176   [    0/60000]\n",
      "....................................................................................................\n",
      "loss: 37.031403   [ 6400/60000]\n",
      "....................................................................................................\n",
      "loss: 22.839159   [12800/60000]\n",
      "....................................................................................................\n",
      "loss: 31.285709   [19200/60000]\n",
      "....................................................................................................\n",
      "loss: 19.671614   [25600/60000]\n",
      "....................................................................................................\n",
      "loss: 28.005474   [32000/60000]\n",
      "....................................................................................................\n",
      "loss: 16.552950   [38400/60000]\n",
      "....................................................................................................\n",
      "loss: 29.169474   [44800/60000]\n",
      "....................................................................................................\n",
      "loss: 18.611301   [51200/60000]\n",
      "....................................................................................................\n",
      "loss: 18.259953   [57600/60000]\n",
      ".....................................Test Error: \n",
      " Accuracy: 82.8%, Avg loass: 32.073261\n",
      "\n",
      "Epoch 2\n",
      "---------------------------------\n",
      ".\n",
      "loss: 17.582277   [    0/60000]\n",
      "....................................................................................................\n",
      "loss: 18.902550   [ 6400/60000]\n",
      "....................................................................................................\n",
      "loss: 20.283875   [12800/60000]\n",
      "....................................................................................................\n",
      "loss: 27.334444   [19200/60000]\n",
      "....................................................................................................\n",
      "loss: 15.750335   [25600/60000]\n",
      "....................................................................................................\n",
      "loss: 29.670603   [32000/60000]\n",
      "....................................................................................................\n",
      "loss: 14.919951   [38400/60000]\n",
      "....................................................................................................\n",
      "loss: 25.278378   [44800/60000]\n",
      "....................................................................................................\n",
      "loss: 13.196345   [51200/60000]\n",
      "....................................................................................................\n",
      "loss: 9.791977   [57600/60000]\n",
      ".....................................Test Error: \n",
      " Accuracy: 89.2%, Avg loass: 19.441553\n",
      "\n",
      "Epoch 3\n",
      "---------------------------------\n",
      ".\n",
      "loss: 14.907720   [    0/60000]\n",
      "....................................................................................................\n",
      "loss: 18.342529   [ 6400/60000]\n",
      "....................................................................................................\n",
      "loss: 15.572460   [12800/60000]\n",
      "....................................................................................................\n",
      "loss: 16.628323   [19200/60000]\n",
      "....................................................................................................\n",
      "loss: 15.187555   [25600/60000]\n",
      "....................................................................................................\n",
      "loss: 31.964594   [32000/60000]\n",
      "....................................................................................................\n",
      "loss: 14.882524   [38400/60000]\n",
      "....................................................................................................\n",
      "loss: 20.195486   [44800/60000]\n",
      "....................................................................................................\n",
      "loss: 11.547515   [51200/60000]\n",
      "....................................................................................................\n",
      "loss: 7.746910   [57600/60000]\n",
      ".....................................Test Error: \n",
      " Accuracy: 89.0%, Avg loass: 19.855803\n",
      "\n",
      "Epoch 4\n",
      "---------------------------------\n",
      ".\n",
      "loss: 14.411084   [    0/60000]\n",
      "....................................................................................................\n",
      "loss: 15.094887   [ 6400/60000]\n",
      "....................................................................................................\n",
      "loss: 11.888266   [12800/60000]\n",
      "....................................................................................................\n",
      "loss: 15.529667   [19200/60000]\n",
      "....................................................................................................\n",
      "loss: 14.570527   [25600/60000]\n",
      "....................................................................................................\n",
      "loss: 29.743624   [32000/60000]\n",
      "....................................................................................................\n",
      "loss: 15.497544   [38400/60000]\n",
      "....................................................................................................\n",
      "loss: 14.867227   [44800/60000]\n",
      "....................................................................................................\n",
      "loss: 10.974257   [51200/60000]\n",
      "....................................................................................................\n",
      "loss: 7.480226   [57600/60000]\n",
      ".....................................Test Error: \n",
      " Accuracy: 90.2%, Avg loass: 18.043363\n",
      "\n",
      "Epoch 5\n",
      "---------------------------------\n",
      ".\n",
      "loss: 8.639610   [    0/60000]\n",
      "....................................................................................................\n",
      "loss: 14.719908   [ 6400/60000]\n",
      "....................................................................................................\n",
      "loss: 10.813515   [12800/60000]\n",
      "....................................................................................................\n",
      "loss: 14.629170   [19200/60000]\n",
      "....................................................................................................\n",
      "loss: 12.606174   [25600/60000]\n",
      "....................................................................................................\n",
      "loss: 25.835999   [32000/60000]\n",
      "....................................................................................................\n",
      "loss: 12.553515   [38400/60000]\n",
      "....................................................................................................\n",
      "loss: 13.806476   [44800/60000]\n",
      "....................................................................................................\n",
      "loss: 12.075765   [51200/60000]\n",
      "....................................................................................................\n",
      "loss: 8.515544   [57600/60000]\n",
      ".....................................Test Error: \n",
      " Accuracy: 91.1%, Avg loass: 16.878395\n",
      "\n"
     ]
    }
   ],
   "source": [
    "for epoch in range(5):\n",
    "  print(f'Epoch {epoch + 1}\\n---------------------------------')\n",
    "  train(device, training_dataloader_fashion, model_fashion, nn.CrossEntropyLoss(reduction='sum'),\n",
    "        torch.optim.Adam(model_fashion.parameters(),lr=0.001))\n",
    "  test(device, test_dataloader_fashion, model_fashion, nn.CrossEntropyLoss(reduction='sum'))"
   ]
  },
  {
   "cell_type": "code",
   "execution_count": 54,
   "metadata": {
    "colab": {
     "base_uri": "https://localhost:8080/"
    },
    "executionInfo": {
     "elapsed": 499,
     "status": "ok",
     "timestamp": 1633964699905,
     "user": {
      "displayName": "이승연",
      "photoUrl": "https://lh3.googleusercontent.com/a/default-user=s64",
      "userId": "04501222278958998661"
     },
     "user_tz": -540
    },
    "id": "WMT7VjK6eMKd",
    "outputId": "8aca9f0b-8b6f-441b-fc90-e4ad8b6abe81"
   },
   "outputs": [
    {
     "name": "stdout",
     "output_type": "stream",
     "text": [
      "/content/drive/MyDrive/test/resnet_models/model_fashion.pth\n"
     ]
    }
   ],
   "source": [
    "dest_model_path = basic_path + 'resnet_models/model_fashion.pth'\n",
    "print(dest_model_path)\n",
    "torch.save(model_fashion.state_dict(), dest_model_path)"
   ]
  }
 ],
 "metadata": {
  "accelerator": "GPU",
  "colab": {
   "authorship_tag": "ABX9TyOrlw4TPhAhvjUDefB0+2Pu",
   "collapsed_sections": [
    "cDgyvjoug8hO"
   ],
   "name": "resnet.ipynb",
   "provenance": []
  },
  "kernelspec": {
   "display_name": "Python 3",
   "language": "python",
   "name": "python3"
  },
  "language_info": {
   "codemirror_mode": {
    "name": "ipython",
    "version": 3
   },
   "file_extension": ".py",
   "mimetype": "text/x-python",
   "name": "python",
   "nbconvert_exporter": "python",
   "pygments_lexer": "ipython3",
   "version": "3.7.5"
  }
 },
 "nbformat": 4,
 "nbformat_minor": 1
}
