{
 "cells": [
  {
   "cell_type": "code",
   "execution_count": 1,
   "metadata": {
    "colab": {
     "base_uri": "https://localhost:8080/"
    },
    "executionInfo": {
     "elapsed": 16337,
     "status": "ok",
     "timestamp": 1633835366728,
     "user": {
      "displayName": "이승연",
      "photoUrl": "https://lh3.googleusercontent.com/a/default-user=s64",
      "userId": "04501222278958998661"
     },
     "user_tz": -540
    },
    "id": "R3EJKkIo_Wt-",
    "outputId": "6444b5d8-f25d-4a80-c375-f808d1877978"
   },
   "outputs": [
    {
     "name": "stdout",
     "output_type": "stream",
     "text": [
      "Mounted at /content/drive\n"
     ]
    }
   ],
   "source": [
    "from google.colab import drive\n",
    "drive.mount('/content/drive')\n",
    "\n",
    "basic_path = '/content/drive/MyDrive/test/'"
   ]
  },
  {
   "cell_type": "code",
   "execution_count": 2,
   "metadata": {
    "executionInfo": {
     "elapsed": 25405,
     "status": "ok",
     "timestamp": 1633835392128,
     "user": {
      "displayName": "이승연",
      "photoUrl": "https://lh3.googleusercontent.com/a/default-user=s64",
      "userId": "04501222278958998661"
     },
     "user_tz": -540
    },
    "id": "gxN2Cid5F4Dh"
   },
   "outputs": [],
   "source": [
    "# 라이브러리 import\n",
    "import torch\n",
    "import torch.nn as nn\n",
    "from torch.utils.data import DataLoader\n",
    "from torchvision import datasets\n",
    "import torchvision.transforms as transforms\n",
    "import matplotlib.pyplot as plt\n",
    "import numpy as np\n",
    "import torch.nn.functional as F\n",
    "##\n",
    "import os\n",
    "from typing import cast"
   ]
  },
  {
   "cell_type": "code",
   "execution_count": 3,
   "metadata": {
    "executionInfo": {
     "elapsed": 18,
     "status": "ok",
     "timestamp": 1633835392129,
     "user": {
      "displayName": "이승연",
      "photoUrl": "https://lh3.googleusercontent.com/a/default-user=s64",
      "userId": "04501222278958998661"
     },
     "user_tz": -540
    },
    "id": "PP7F421mMgA5"
   },
   "outputs": [],
   "source": [
    "def get_mean_std(channel, training_dataset):\n",
    "  if channel.lower() is 'rgb':\n",
    "    mean_rgb = [np.mean(x.numpy(), axis=(1, 2)) for x,_ in training_dataset]\n",
    "    std_rgb = [np.std(x.numpy(), axis=(1, 2)) for x,_ in training_dataset]\n",
    "\n",
    "    mean_r = np.mean([m[0] for m in mean_rgb])\n",
    "    mean_g = np.mean([m[1] for m in mean_rgb])\n",
    "    mean_b = np.mean([m[2] for m in mean_rgb])\n",
    "\n",
    "    std_r = np.mean([s[0] for s in std_rgb])\n",
    "    std_g = np.mean([s[1] for s in std_rgb])\n",
    "    std_b = np.mean([s[2] for s in std_rgb])\n",
    "    return [mean_r, mean_g, mean_b], [std_r, std_g, std_b]\n",
    "  else:\n",
    "    mean = [np.mean(x.numpy(), axis=(1, 2)) for x,_ in training_dataset]\n",
    "    std = [np.std(x.numpy(), axis=(1, 2)) for x,_ in training_dataset]\n",
    "\n",
    "    return np.mean([m[0] for m in mean]), np.mean([s[0] for s in std])"
   ]
  },
  {
   "cell_type": "code",
   "execution_count": 4,
   "metadata": {
    "executionInfo": {
     "elapsed": 18,
     "status": "ok",
     "timestamp": 1633835392130,
     "user": {
      "displayName": "이승연",
      "photoUrl": "https://lh3.googleusercontent.com/a/default-user=s64",
      "userId": "04501222278958998661"
     },
     "user_tz": -540
    },
    "id": "BIMw8JfYOrc2"
   },
   "outputs": [],
   "source": [
    "def get_device():\n",
    "    return torch.device('cuda' if torch.cuda.is_available() else 'cpu')"
   ]
  },
  {
   "cell_type": "code",
   "execution_count": 5,
   "metadata": {
    "executionInfo": {
     "elapsed": 18,
     "status": "ok",
     "timestamp": 1633835392130,
     "user": {
      "displayName": "이승연",
      "photoUrl": "https://lh3.googleusercontent.com/a/default-user=s64",
      "userId": "04501222278958998661"
     },
     "user_tz": -540
    },
    "id": "g3abiFEPTQdA"
   },
   "outputs": [],
   "source": [
    "# 모델 구현\n",
    "MAX_POOLING_LAYER = 'MAX_POOLING'\n",
    "VGG_types = {\n",
    "    'VGG16': [64, 64, MAX_POOLING_LAYER, 128, 128, MAX_POOLING_LAYER, 256, 256, 256,\n",
    "               MAX_POOLING_LAYER, 512, 512, 512, MAX_POOLING_LAYER, 512, 512, 512, MAX_POOLING_LAYER]\n",
    "}\n",
    "class MyVGG(nn.Module):\n",
    "  def __init__(self, size_of_channel, number_of_class, network_type = 'VGG16'):\n",
    "    super(MyVGG, self).__init__()\n",
    "    self.size_of_channel = size_of_channel\n",
    "    self.networks = self._generate_networks_(network_type)\n",
    "    self.fc_layers = nn.Sequential(\n",
    "        nn.Linear(512 * 7 * 7, 4096),\n",
    "        nn.ReLU(),\n",
    "        nn.Dropout(p=0.5),\n",
    "        nn.Linear(4096, 4096),\n",
    "        nn.ReLU(),\n",
    "        nn.Dropout(p=0.5),\n",
    "        nn.Linear(4096, number_of_class),\n",
    "    )\n",
    "    self._init_weights_()\n",
    "\n",
    "  def forward(self, x):\n",
    "    x = self.networks(x)\n",
    "    x = x.reshape(x.shape[0], -1)\n",
    "    x = self.fc_layers(x)\n",
    "    return x\n",
    "\n",
    "  def _init_weights_(self):\n",
    "    def __get_all_layers__():\n",
    "      return self.modules()\n",
    "    for module in __get_all_layers__():\n",
    "      if isinstance(module, nn.Conv2d):\n",
    "        nn.init.kaiming_normal_(module.weight, mode='fan_out', nonlinearity='relu')\n",
    "        if module.bias is not None:\n",
    "          nn.init.constant_(module.bias, 0)\n",
    "      elif isinstance(module, nn.BatchNorm2d):\n",
    "        nn.init.constant_(module.weight, 1)\n",
    "        nn.init.constant_(module.bias, 0)\n",
    "      elif isinstance(module, nn.Linear):\n",
    "        nn.init.normal_(module.weight, 0, 0.01)\n",
    "        nn.init.constant_(module.bias, 0)\n",
    "\n",
    "  def _generate_networks_(self, network_type):\n",
    "    layers = []\n",
    "    input_channel_size = self.size_of_channel\n",
    "    for output_channel_size in VGG_types[network_type]:\n",
    "      if output_channel_size == MAX_POOLING_LAYER:\n",
    "        layers += [nn.MaxPool2d(kernel_size=(2, 2), stride=(2, 2))]\n",
    "      else:\n",
    "        layers += [\n",
    "            nn.Conv2d(input_channel_size, output_channel_size, kernel_size=(3, 3), padding=(1, 1)),\n",
    "            nn.BatchNorm2d(output_channel_size),\n",
    "            nn.ReLU(inplace=True)\n",
    "        ]\n",
    "        input_channel_size = output_channel_size\n",
    "    return nn.Sequential(*layers)\n"
   ]
  },
  {
   "cell_type": "code",
   "execution_count": 6,
   "metadata": {
    "colab": {
     "base_uri": "https://localhost:8080/"
    },
    "executionInfo": {
     "elapsed": 23899,
     "status": "ok",
     "timestamp": 1633835416012,
     "user": {
      "displayName": "이승연",
      "photoUrl": "https://lh3.googleusercontent.com/a/default-user=s64",
      "userId": "04501222278958998661"
     },
     "user_tz": -540
    },
    "id": "Em7LAWvnTQgO",
    "outputId": "5204a149-8904-4950-cdaa-dc7c6ec9e91f"
   },
   "outputs": [
    {
     "name": "stderr",
     "output_type": "stream",
     "text": [
      "/usr/local/lib/python3.7/dist-packages/torchvision/datasets/mnist.py:498: UserWarning: The given NumPy array is not writeable, and PyTorch does not support non-writeable tensors. This means you can write to the underlying (supposedly non-writeable) NumPy array using the tensor. You may want to copy the array to protect its data or make it writeable before converting it to a tensor. This type of warning will be suppressed for the rest of this program. (Triggered internally at  /pytorch/torch/csrc/utils/tensor_numpy.cpp:180.)\n",
      "  return torch.from_numpy(parsed.astype(m[2], copy=False)).view(*s)\n"
     ]
    }
   ],
   "source": [
    "training_dataset = datasets.FashionMNIST(\n",
    "    root=basic_path + '/data', train=True, download=True, transform=transforms.ToTensor(),\n",
    ")\n",
    "test_dataset = datasets.FashionMNIST(\n",
    "    root=basic_path + '/data', train=False, download=True, transform=transforms.ToTensor(),\n",
    ")\n",
    "\n",
    "gray_scale_mean, gray_scale_std = get_mean_std('gray', training_dataset)\n",
    "gray_scale_transform = transforms.Compose([\n",
    "  transforms.ToTensor(),\n",
    "  transforms.Resize(224),\n",
    "  transforms.Normalize(mean=[gray_scale_mean], std=[gray_scale_std])\n",
    "])\n",
    "training_dataset.transform = gray_scale_transform\n",
    "test_dataset.transform = gray_scale_transform"
   ]
  },
  {
   "cell_type": "code",
   "execution_count": 7,
   "metadata": {
    "colab": {
     "base_uri": "https://localhost:8080/"
    },
    "executionInfo": {
     "elapsed": 18,
     "status": "ok",
     "timestamp": 1633835416016,
     "user": {
      "displayName": "이승연",
      "photoUrl": "https://lh3.googleusercontent.com/a/default-user=s64",
      "userId": "04501222278958998661"
     },
     "user_tz": -540
    },
    "id": "hK5qustVTQjm",
    "outputId": "b66d60e2-6468-401d-d170-8d8b5916a9f1"
   },
   "outputs": [
    {
     "name": "stdout",
     "output_type": "stream",
     "text": [
      "Shape of X [N, C, H, W]: torch.Size([64, 1, 224, 224])\n",
      "Shape ofy: torch.Size([64]) torch.int64\n"
     ]
    }
   ],
   "source": [
    "training_dataloader = DataLoader(training_dataset, batch_size=64)\n",
    "test_dataloader = DataLoader(test_dataset, batch_size=64)\n",
    "\n",
    "for X, y in test_dataloader:\n",
    "  print('Shape of X [N, C, H, W]:', X.shape)\n",
    "  print('Shape ofy:', y.shape, y.dtype)\n",
    "  break"
   ]
  },
  {
   "cell_type": "code",
   "execution_count": 8,
   "metadata": {
    "colab": {
     "base_uri": "https://localhost:8080/"
    },
    "executionInfo": {
     "elapsed": 17,
     "status": "ok",
     "timestamp": 1633835416017,
     "user": {
      "displayName": "이승연",
      "photoUrl": "https://lh3.googleusercontent.com/a/default-user=s64",
      "userId": "04501222278958998661"
     },
     "user_tz": -540
    },
    "id": "AbFin05YTQmO",
    "outputId": "e2c84c96-f977-4764-c591-7f6df473664e"
   },
   "outputs": [
    {
     "data": {
      "text/plain": [
       "['T-shirt/top',\n",
       " 'Trouser',\n",
       " 'Pullover',\n",
       " 'Dress',\n",
       " 'Coat',\n",
       " 'Sandal',\n",
       " 'Shirt',\n",
       " 'Sneaker',\n",
       " 'Bag',\n",
       " 'Ankle boot']"
      ]
     },
     "execution_count": 8,
     "metadata": {},
     "output_type": "execute_result"
    }
   ],
   "source": [
    "datasets.FashionMNIST.classes"
   ]
  },
  {
   "cell_type": "code",
   "execution_count": 9,
   "metadata": {
    "colab": {
     "base_uri": "https://localhost:8080/"
    },
    "executionInfo": {
     "elapsed": 2207,
     "status": "ok",
     "timestamp": 1633835418210,
     "user": {
      "displayName": "이승연",
      "photoUrl": "https://lh3.googleusercontent.com/a/default-user=s64",
      "userId": "04501222278958998661"
     },
     "user_tz": -540
    },
    "id": "Kk-3Jw_jTQoK",
    "outputId": "4ac11d9e-e9af-458c-ff22-cb016f4271a5"
   },
   "outputs": [
    {
     "data": {
      "text/plain": [
       "MyVGG(\n",
       "  (networks): Sequential(\n",
       "    (0): Conv2d(1, 64, kernel_size=(3, 3), stride=(1, 1), padding=(1, 1))\n",
       "    (1): BatchNorm2d(64, eps=1e-05, momentum=0.1, affine=True, track_running_stats=True)\n",
       "    (2): ReLU(inplace=True)\n",
       "    (3): Conv2d(64, 64, kernel_size=(3, 3), stride=(1, 1), padding=(1, 1))\n",
       "    (4): BatchNorm2d(64, eps=1e-05, momentum=0.1, affine=True, track_running_stats=True)\n",
       "    (5): ReLU(inplace=True)\n",
       "    (6): MaxPool2d(kernel_size=(2, 2), stride=(2, 2), padding=0, dilation=1, ceil_mode=False)\n",
       "    (7): Conv2d(64, 128, kernel_size=(3, 3), stride=(1, 1), padding=(1, 1))\n",
       "    (8): BatchNorm2d(128, eps=1e-05, momentum=0.1, affine=True, track_running_stats=True)\n",
       "    (9): ReLU(inplace=True)\n",
       "    (10): Conv2d(128, 128, kernel_size=(3, 3), stride=(1, 1), padding=(1, 1))\n",
       "    (11): BatchNorm2d(128, eps=1e-05, momentum=0.1, affine=True, track_running_stats=True)\n",
       "    (12): ReLU(inplace=True)\n",
       "    (13): MaxPool2d(kernel_size=(2, 2), stride=(2, 2), padding=0, dilation=1, ceil_mode=False)\n",
       "    (14): Conv2d(128, 256, kernel_size=(3, 3), stride=(1, 1), padding=(1, 1))\n",
       "    (15): BatchNorm2d(256, eps=1e-05, momentum=0.1, affine=True, track_running_stats=True)\n",
       "    (16): ReLU(inplace=True)\n",
       "    (17): Conv2d(256, 256, kernel_size=(3, 3), stride=(1, 1), padding=(1, 1))\n",
       "    (18): BatchNorm2d(256, eps=1e-05, momentum=0.1, affine=True, track_running_stats=True)\n",
       "    (19): ReLU(inplace=True)\n",
       "    (20): Conv2d(256, 256, kernel_size=(3, 3), stride=(1, 1), padding=(1, 1))\n",
       "    (21): BatchNorm2d(256, eps=1e-05, momentum=0.1, affine=True, track_running_stats=True)\n",
       "    (22): ReLU(inplace=True)\n",
       "    (23): MaxPool2d(kernel_size=(2, 2), stride=(2, 2), padding=0, dilation=1, ceil_mode=False)\n",
       "    (24): Conv2d(256, 512, kernel_size=(3, 3), stride=(1, 1), padding=(1, 1))\n",
       "    (25): BatchNorm2d(512, eps=1e-05, momentum=0.1, affine=True, track_running_stats=True)\n",
       "    (26): ReLU(inplace=True)\n",
       "    (27): Conv2d(512, 512, kernel_size=(3, 3), stride=(1, 1), padding=(1, 1))\n",
       "    (28): BatchNorm2d(512, eps=1e-05, momentum=0.1, affine=True, track_running_stats=True)\n",
       "    (29): ReLU(inplace=True)\n",
       "    (30): Conv2d(512, 512, kernel_size=(3, 3), stride=(1, 1), padding=(1, 1))\n",
       "    (31): BatchNorm2d(512, eps=1e-05, momentum=0.1, affine=True, track_running_stats=True)\n",
       "    (32): ReLU(inplace=True)\n",
       "    (33): MaxPool2d(kernel_size=(2, 2), stride=(2, 2), padding=0, dilation=1, ceil_mode=False)\n",
       "    (34): Conv2d(512, 512, kernel_size=(3, 3), stride=(1, 1), padding=(1, 1))\n",
       "    (35): BatchNorm2d(512, eps=1e-05, momentum=0.1, affine=True, track_running_stats=True)\n",
       "    (36): ReLU(inplace=True)\n",
       "    (37): Conv2d(512, 512, kernel_size=(3, 3), stride=(1, 1), padding=(1, 1))\n",
       "    (38): BatchNorm2d(512, eps=1e-05, momentum=0.1, affine=True, track_running_stats=True)\n",
       "    (39): ReLU(inplace=True)\n",
       "    (40): Conv2d(512, 512, kernel_size=(3, 3), stride=(1, 1), padding=(1, 1))\n",
       "    (41): BatchNorm2d(512, eps=1e-05, momentum=0.1, affine=True, track_running_stats=True)\n",
       "    (42): ReLU(inplace=True)\n",
       "    (43): MaxPool2d(kernel_size=(2, 2), stride=(2, 2), padding=0, dilation=1, ceil_mode=False)\n",
       "  )\n",
       "  (fc_layers): Sequential(\n",
       "    (0): Linear(in_features=25088, out_features=4096, bias=True)\n",
       "    (1): ReLU()\n",
       "    (2): Dropout(p=0.5, inplace=False)\n",
       "    (3): Linear(in_features=4096, out_features=4096, bias=True)\n",
       "    (4): ReLU()\n",
       "    (5): Dropout(p=0.5, inplace=False)\n",
       "    (6): Linear(in_features=4096, out_features=10, bias=True)\n",
       "  )\n",
       ")"
      ]
     },
     "execution_count": 9,
     "metadata": {},
     "output_type": "execute_result"
    }
   ],
   "source": [
    "model_fashion = MyVGG(1, len(datasets.FashionMNIST.classes))\n",
    "model_fashion"
   ]
  },
  {
   "cell_type": "code",
   "execution_count": 10,
   "metadata": {
    "colab": {
     "base_uri": "https://localhost:8080/"
    },
    "executionInfo": {
     "elapsed": 14639,
     "status": "ok",
     "timestamp": 1633835432845,
     "user": {
      "displayName": "이승연",
      "photoUrl": "https://lh3.googleusercontent.com/a/default-user=s64",
      "userId": "04501222278958998661"
     },
     "user_tz": -540
    },
    "id": "_e7C1MlS8R9I",
    "outputId": "7e585fff-cca9-4a79-b0b0-1db748c581a8"
   },
   "outputs": [
    {
     "name": "stdout",
     "output_type": "stream",
     "text": [
      "cuda\n"
     ]
    }
   ],
   "source": [
    "device = get_device()\n",
    "print(device)\n",
    "model_fashion = model_fashion.to(device)"
   ]
  },
  {
   "cell_type": "code",
   "execution_count": 11,
   "metadata": {
    "executionInfo": {
     "elapsed": 20,
     "status": "ok",
     "timestamp": 1633835432845,
     "user": {
      "displayName": "이승연",
      "photoUrl": "https://lh3.googleusercontent.com/a/default-user=s64",
      "userId": "04501222278958998661"
     },
     "user_tz": -540
    },
    "id": "PnSwCcJD9F3p"
   },
   "outputs": [],
   "source": [
    "def train(device, dataloader, model, loss_fn, optimizer):\n",
    "    size = len(dataloader.dataset)\n",
    "    model.train()\n",
    "    \n",
    "    for batch, (X, y) in enumerate(dataloader):\n",
    "      X, y = X.to(device), y.to(device)\n",
    "      \n",
    "      pred = model(X.cuda())\n",
    "      loss = loss_fn(pred, y)\n",
    "      \n",
    "      optimizer.zero_grad()\n",
    "      loss.backward()\n",
    "      optimizer.step()\n",
    "      \n",
    "      print('.', end='')\n",
    "      if batch % 100 == 0:\n",
    "          print()\n",
    "          loss, current = loss.item(), batch*len(X)\n",
    "          print(f'loss: {loss:>7f}   [{current:>5d}/{size:>5d}]')"
   ]
  },
  {
   "cell_type": "code",
   "execution_count": 12,
   "metadata": {
    "executionInfo": {
     "elapsed": 19,
     "status": "ok",
     "timestamp": 1633835432846,
     "user": {
      "displayName": "이승연",
      "photoUrl": "https://lh3.googleusercontent.com/a/default-user=s64",
      "userId": "04501222278958998661"
     },
     "user_tz": -540
    },
    "id": "2UD8uxrb9F7G"
   },
   "outputs": [],
   "source": [
    "def test(device, dataloader, model, loss_fn):\n",
    "    size = len(dataloader.dataset)\n",
    "    num_batches = len(dataloader)\n",
    "    model.eval()\n",
    "    \n",
    "    test_loss, correct = 0, 0\n",
    "    with torch.no_grad():\n",
    "        for X, y in dataloader:\n",
    "            X, y = X.to(device), y.to(device)\n",
    "            \n",
    "            pred = model(X)\n",
    "            test_loss += loss_fn(pred, y).item()\n",
    "            correct += (pred.argmax(1) == y).type(torch.float).sum().item()\n",
    "    test_loss /= num_batches\n",
    "    correct /= size\n",
    "    print(f'Test Error: \\n Accuracy: {(100*correct):>0.1f}%, Avg loass: {test_loss:>8f}\\n')"
   ]
  },
  {
   "cell_type": "code",
   "execution_count": 13,
   "metadata": {
    "colab": {
     "base_uri": "https://localhost:8080/"
    },
    "executionInfo": {
     "elapsed": 10480401,
     "status": "ok",
     "timestamp": 1633845913229,
     "user": {
      "displayName": "이승연",
      "photoUrl": "https://lh3.googleusercontent.com/a/default-user=s64",
      "userId": "04501222278958998661"
     },
     "user_tz": -540
    },
    "id": "aU_bhczo8ZSK",
    "outputId": "3825c4cc-78f2-4c84-d352-e47718617907"
   },
   "outputs": [
    {
     "name": "stdout",
     "output_type": "stream",
     "text": [
      "Epoch 1\n",
      "---------------------------------\n"
     ]
    },
    {
     "name": "stderr",
     "output_type": "stream",
     "text": [
      "/usr/local/lib/python3.7/dist-packages/torch/nn/functional.py:718: UserWarning: Named tensors and all their associated APIs are an experimental feature and subject to change. Please do not use them for anything important until they are released as stable. (Triggered internally at  /pytorch/c10/core/TensorImpl.h:1156.)\n",
      "  return torch.max_pool2d(input, kernel_size, stride, padding, dilation, ceil_mode)\n"
     ]
    },
    {
     "name": "stdout",
     "output_type": "stream",
     "text": [
      ".\n",
      "loss: 2.464610   [    0/60000]\n",
      "....................................................................................................\n",
      "loss: 1.034951   [ 6400/60000]\n",
      "....................................................................................................\n",
      "loss: 0.502621   [12800/60000]\n",
      "....................................................................................................\n",
      "loss: 0.782980   [19200/60000]\n",
      "....................................................................................................\n",
      "loss: 0.687259   [25600/60000]\n",
      "....................................................................................................\n",
      "loss: 0.509175   [32000/60000]\n",
      "....................................................................................................\n",
      "loss: 0.382671   [38400/60000]\n",
      "....................................................................................................\n",
      "loss: 0.634097   [44800/60000]\n",
      "....................................................................................................\n",
      "loss: 0.507279   [51200/60000]\n",
      "....................................................................................................\n",
      "loss: 0.406806   [57600/60000]\n",
      ".....................................Test Error: \n",
      " Accuracy: 87.1%, Avg loass: 0.366990\n",
      "\n",
      "Epoch 2\n",
      "---------------------------------\n",
      ".\n",
      "loss: 0.230508   [    0/60000]\n",
      "....................................................................................................\n",
      "loss: 0.504098   [ 6400/60000]\n",
      "....................................................................................................\n",
      "loss: 0.272030   [12800/60000]\n",
      "....................................................................................................\n",
      "loss: 0.466005   [19200/60000]\n",
      "....................................................................................................\n",
      "loss: 0.434602   [25600/60000]\n",
      "....................................................................................................\n",
      "loss: 0.409124   [32000/60000]\n",
      "....................................................................................................\n",
      "loss: 0.341489   [38400/60000]\n",
      "....................................................................................................\n",
      "loss: 0.529081   [44800/60000]\n",
      "....................................................................................................\n",
      "loss: 0.437960   [51200/60000]\n",
      "....................................................................................................\n",
      "loss: 0.269716   [57600/60000]\n",
      ".....................................Test Error: \n",
      " Accuracy: 88.6%, Avg loass: 0.309704\n",
      "\n",
      "Epoch 3\n",
      "---------------------------------\n",
      ".\n",
      "loss: 0.166465   [    0/60000]\n",
      "....................................................................................................\n",
      "loss: 0.304164   [ 6400/60000]\n",
      "....................................................................................................\n",
      "loss: 0.228876   [12800/60000]\n",
      "....................................................................................................\n",
      "loss: 0.375254   [19200/60000]\n",
      "....................................................................................................\n",
      "loss: 0.334367   [25600/60000]\n",
      "....................................................................................................\n",
      "loss: 0.411177   [32000/60000]\n",
      "....................................................................................................\n",
      "loss: 0.244593   [38400/60000]\n",
      "....................................................................................................\n",
      "loss: 0.389328   [44800/60000]\n",
      "....................................................................................................\n",
      "loss: 0.266641   [51200/60000]\n",
      "....................................................................................................\n",
      "loss: 0.234308   [57600/60000]\n",
      ".....................................Test Error: \n",
      " Accuracy: 90.4%, Avg loass: 0.267295\n",
      "\n",
      "Epoch 4\n",
      "---------------------------------\n",
      ".\n",
      "loss: 0.108620   [    0/60000]\n",
      "....................................................................................................\n",
      "loss: 0.143508   [ 6400/60000]\n",
      "....................................................................................................\n",
      "loss: 0.139437   [12800/60000]\n",
      "....................................................................................................\n",
      "loss: 0.303910   [19200/60000]\n",
      "....................................................................................................\n",
      "loss: 0.222837   [25600/60000]\n",
      "....................................................................................................\n",
      "loss: 0.343984   [32000/60000]\n",
      "....................................................................................................\n",
      "loss: 0.212639   [38400/60000]\n",
      "....................................................................................................\n",
      "loss: 0.426199   [44800/60000]\n",
      "....................................................................................................\n",
      "loss: 0.218485   [51200/60000]\n",
      "....................................................................................................\n",
      "loss: 0.147594   [57600/60000]\n",
      ".....................................Test Error: \n",
      " Accuracy: 90.6%, Avg loass: 0.262270\n",
      "\n",
      "Epoch 5\n",
      "---------------------------------\n",
      ".\n",
      "loss: 0.077138   [    0/60000]\n",
      "....................................................................................................\n",
      "loss: 0.189255   [ 6400/60000]\n",
      "....................................................................................................\n",
      "loss: 0.132879   [12800/60000]\n",
      "....................................................................................................\n",
      "loss: 0.231404   [19200/60000]\n",
      "....................................................................................................\n",
      "loss: 0.261420   [25600/60000]\n",
      "....................................................................................................\n",
      "loss: 0.293862   [32000/60000]\n",
      "....................................................................................................\n",
      "loss: 0.168844   [38400/60000]\n",
      "....................................................................................................\n",
      "loss: 0.282748   [44800/60000]\n",
      "....................................................................................................\n",
      "loss: 0.144122   [51200/60000]\n",
      "....................................................................................................\n",
      "loss: 0.162648   [57600/60000]\n",
      ".....................................Test Error: \n",
      " Accuracy: 92.1%, Avg loass: 0.231201\n",
      "\n"
     ]
    }
   ],
   "source": [
    "for epoch in range(5):\n",
    "  print(f'Epoch {epoch + 1}\\n---------------------------------')\n",
    "  train(device, training_dataloader, model_fashion, nn.CrossEntropyLoss().to(device),\n",
    "        torch.optim.Adam(model_fashion.parameters(),lr=0.00001))\n",
    "  test(device, test_dataloader, model_fashion, nn.CrossEntropyLoss().to(device))"
   ]
  },
  {
   "cell_type": "code",
   "execution_count": 14,
   "metadata": {
    "executionInfo": {
     "elapsed": 2186,
     "status": "ok",
     "timestamp": 1633846093815,
     "user": {
      "displayName": "이승연",
      "photoUrl": "https://lh3.googleusercontent.com/a/default-user=s64",
      "userId": "04501222278958998661"
     },
     "user_tz": -540
    },
    "id": "iVoNTuv30Ebc"
   },
   "outputs": [],
   "source": [
    "torch.save(model_fashion.state_dict(), 'model_fashion.pth')"
   ]
  },
  {
   "cell_type": "code",
   "execution_count": 15,
   "metadata": {
    "colab": {
     "base_uri": "https://localhost:8080/"
    },
    "executionInfo": {
     "elapsed": 251,
     "status": "ok",
     "timestamp": 1633846154421,
     "user": {
      "displayName": "이승연",
      "photoUrl": "https://lh3.googleusercontent.com/a/default-user=s64",
      "userId": "04501222278958998661"
     },
     "user_tz": -540
    },
    "id": "YcBGHDaq0Ejx",
    "outputId": "2a8c703c-efb3-4289-87e0-34ad3582b695"
   },
   "outputs": [
    {
     "name": "stdout",
     "output_type": "stream",
     "text": [
      "----------------------------------------------------------------\n",
      "        Layer (type)               Output Shape         Param #\n",
      "================================================================\n",
      "            Conv2d-1         [-1, 64, 224, 224]             640\n",
      "       BatchNorm2d-2         [-1, 64, 224, 224]             128\n",
      "              ReLU-3         [-1, 64, 224, 224]               0\n",
      "            Conv2d-4         [-1, 64, 224, 224]          36,928\n",
      "       BatchNorm2d-5         [-1, 64, 224, 224]             128\n",
      "              ReLU-6         [-1, 64, 224, 224]               0\n",
      "         MaxPool2d-7         [-1, 64, 112, 112]               0\n",
      "            Conv2d-8        [-1, 128, 112, 112]          73,856\n",
      "       BatchNorm2d-9        [-1, 128, 112, 112]             256\n",
      "             ReLU-10        [-1, 128, 112, 112]               0\n",
      "           Conv2d-11        [-1, 128, 112, 112]         147,584\n",
      "      BatchNorm2d-12        [-1, 128, 112, 112]             256\n",
      "             ReLU-13        [-1, 128, 112, 112]               0\n",
      "        MaxPool2d-14          [-1, 128, 56, 56]               0\n",
      "           Conv2d-15          [-1, 256, 56, 56]         295,168\n",
      "      BatchNorm2d-16          [-1, 256, 56, 56]             512\n",
      "             ReLU-17          [-1, 256, 56, 56]               0\n",
      "           Conv2d-18          [-1, 256, 56, 56]         590,080\n",
      "      BatchNorm2d-19          [-1, 256, 56, 56]             512\n",
      "             ReLU-20          [-1, 256, 56, 56]               0\n",
      "           Conv2d-21          [-1, 256, 56, 56]         590,080\n",
      "      BatchNorm2d-22          [-1, 256, 56, 56]             512\n",
      "             ReLU-23          [-1, 256, 56, 56]               0\n",
      "        MaxPool2d-24          [-1, 256, 28, 28]               0\n",
      "           Conv2d-25          [-1, 512, 28, 28]       1,180,160\n",
      "      BatchNorm2d-26          [-1, 512, 28, 28]           1,024\n",
      "             ReLU-27          [-1, 512, 28, 28]               0\n",
      "           Conv2d-28          [-1, 512, 28, 28]       2,359,808\n",
      "      BatchNorm2d-29          [-1, 512, 28, 28]           1,024\n",
      "             ReLU-30          [-1, 512, 28, 28]               0\n",
      "           Conv2d-31          [-1, 512, 28, 28]       2,359,808\n",
      "      BatchNorm2d-32          [-1, 512, 28, 28]           1,024\n",
      "             ReLU-33          [-1, 512, 28, 28]               0\n",
      "        MaxPool2d-34          [-1, 512, 14, 14]               0\n",
      "           Conv2d-35          [-1, 512, 14, 14]       2,359,808\n",
      "      BatchNorm2d-36          [-1, 512, 14, 14]           1,024\n",
      "             ReLU-37          [-1, 512, 14, 14]               0\n",
      "           Conv2d-38          [-1, 512, 14, 14]       2,359,808\n",
      "      BatchNorm2d-39          [-1, 512, 14, 14]           1,024\n",
      "             ReLU-40          [-1, 512, 14, 14]               0\n",
      "           Conv2d-41          [-1, 512, 14, 14]       2,359,808\n",
      "      BatchNorm2d-42          [-1, 512, 14, 14]           1,024\n",
      "             ReLU-43          [-1, 512, 14, 14]               0\n",
      "        MaxPool2d-44            [-1, 512, 7, 7]               0\n",
      "           Linear-45                 [-1, 4096]     102,764,544\n",
      "             ReLU-46                 [-1, 4096]               0\n",
      "          Dropout-47                 [-1, 4096]               0\n",
      "           Linear-48                 [-1, 4096]      16,781,312\n",
      "             ReLU-49                 [-1, 4096]               0\n",
      "          Dropout-50                 [-1, 4096]               0\n",
      "           Linear-51                   [-1, 10]          40,970\n",
      "================================================================\n",
      "Total params: 134,308,810\n",
      "Trainable params: 134,308,810\n",
      "Non-trainable params: 0\n",
      "----------------------------------------------------------------\n",
      "Input size (MB): 0.19\n",
      "Forward/backward pass size (MB): 321.94\n",
      "Params size (MB): 512.35\n",
      "Estimated Total Size (MB): 834.48\n",
      "----------------------------------------------------------------\n"
     ]
    }
   ],
   "source": [
    "from torchsummary import summary\n",
    "\n",
    "summary(model_fashion, input_size=(1, 224, 224))"
   ]
  },
  {
   "cell_type": "code",
   "execution_count": null,
   "metadata": {
    "id": "qL2nLycc0EoU"
   },
   "outputs": [],
   "source": []
  },
  {
   "cell_type": "code",
   "execution_count": null,
   "metadata": {
    "id": "IGN61ro50Eps"
   },
   "outputs": [],
   "source": []
  },
  {
   "cell_type": "code",
   "execution_count": null,
   "metadata": {
    "id": "jTbAyoZG0EsH"
   },
   "outputs": [],
   "source": []
  }
 ],
 "metadata": {
  "accelerator": "GPU",
  "colab": {
   "authorship_tag": "ABX9TyPu5teR2p6fheNnROrVk3jG",
   "collapsed_sections": [],
   "name": "vgg.ipynb",
   "provenance": []
  },
  "kernelspec": {
   "display_name": "Python 3",
   "language": "python",
   "name": "python3"
  },
  "language_info": {
   "codemirror_mode": {
    "name": "ipython",
    "version": 3
   },
   "file_extension": ".py",
   "mimetype": "text/x-python",
   "name": "python",
   "nbconvert_exporter": "python",
   "pygments_lexer": "ipython3",
   "version": "3.7.5"
  }
 },
 "nbformat": 4,
 "nbformat_minor": 1
}
