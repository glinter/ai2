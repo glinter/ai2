{
 "cells": [
  {
   "cell_type": "markdown",
   "metadata": {
    "id": "E2W6ukukmdZW"
   },
   "source": [
    "## 라이브러리 import"
   ]
  },
  {
   "cell_type": "code",
   "execution_count": 3,
   "metadata": {
    "executionInfo": {
     "elapsed": 5568,
     "status": "ok",
     "timestamp": 1638370471323,
     "user": {
      "displayName": "이승연",
      "photoUrl": "https://lh3.googleusercontent.com/a/default-user=s64",
      "userId": "04501222278958998661"
     },
     "user_tz": -540
    },
    "id": "34X4O8pOmiND"
   },
   "outputs": [],
   "source": [
    "import torch\n",
    "import torch.nn as nn\n",
    "from torch.utils.data import DataLoader\n",
    "from torchvision import datasets\n",
    "import torchvision.transforms as transforms\n",
    "import matplotlib.pyplot as plt\n",
    "import numpy as np\n",
    "import torch.nn.functional as F\n",
    "from torchsummary import summary\n",
    "from math import sqrt"
   ]
  },
  {
   "cell_type": "markdown",
   "metadata": {
    "id": "n8SrAKp-mm1H"
   },
   "source": [
    "## 공용함수 선언"
   ]
  },
  {
   "cell_type": "markdown",
   "metadata": {
    "id": "QJFacm0Geru0"
   },
   "source": [
    "### 기본 공용함수 선언"
   ]
  },
  {
   "cell_type": "code",
   "execution_count": 4,
   "metadata": {
    "executionInfo": {
     "elapsed": 32,
     "status": "ok",
     "timestamp": 1638370471326,
     "user": {
      "displayName": "이승연",
      "photoUrl": "https://lh3.googleusercontent.com/a/default-user=s64",
      "userId": "04501222278958998661"
     },
     "user_tz": -540
    },
    "id": "qhU6pNGomwJk"
   },
   "outputs": [],
   "source": [
    "def get_mean_std(channel, training_dataset):\n",
    "  if channel.lower() is 'rgb':\n",
    "    mean_rgb = [np.mean(x.numpy(), axis=(1, 2)) for x,_ in training_dataset]\n",
    "    std_rgb = [np.std(x.numpy(), axis=(1, 2)) for x,_ in training_dataset]\n",
    "\n",
    "    mean_r = np.mean([m[0] for m in mean_rgb])\n",
    "    mean_g = np.mean([m[1] for m in mean_rgb])\n",
    "    mean_b = np.mean([m[2] for m in mean_rgb])\n",
    "\n",
    "    std_r = np.mean([s[0] for s in std_rgb])\n",
    "    std_g = np.mean([s[1] for s in std_rgb])\n",
    "    std_b = np.mean([s[2] for s in std_rgb])\n",
    "    return [mean_r, mean_g, mean_b], [std_r, std_g, std_b]\n",
    "  else:\n",
    "    mean = [np.mean(x.numpy(), axis=(1, 2)) for x,_ in training_dataset]\n",
    "    std = [np.std(x.numpy(), axis=(1, 2)) for x,_ in training_dataset]\n",
    "\n",
    "    return np.mean([m[0] for m in mean]), np.mean([s[0] for s in std])"
   ]
  },
  {
   "cell_type": "code",
   "execution_count": 5,
   "metadata": {
    "executionInfo": {
     "elapsed": 396,
     "status": "ok",
     "timestamp": 1638370471697,
     "user": {
      "displayName": "이승연",
      "photoUrl": "https://lh3.googleusercontent.com/a/default-user=s64",
      "userId": "04501222278958998661"
     },
     "user_tz": -540
    },
    "id": "zGKBXD8xmwQU"
   },
   "outputs": [],
   "source": [
    "def get_device():\n",
    "    return torch.device('cuda' if torch.cuda.is_available() else 'cpu')"
   ]
  },
  {
   "cell_type": "markdown",
   "metadata": {
    "id": "DQm64nXHnAyN"
   },
   "source": [
    "## 모델 구현"
   ]
  },
  {
   "cell_type": "markdown",
   "metadata": {
    "id": "jlsjscDZnCuF"
   },
   "source": [
    "### VGG16 Base 클래스"
   ]
  },
  {
   "cell_type": "code",
   "execution_count": 6,
   "metadata": {
    "executionInfo": {
     "elapsed": 426,
     "status": "ok",
     "timestamp": 1638370472855,
     "user": {
      "displayName": "이승연",
      "photoUrl": "https://lh3.googleusercontent.com/a/default-user=s64",
      "userId": "04501222278958998661"
     },
     "user_tz": -540
    },
    "id": "h8SIGDM8m_7r"
   },
   "outputs": [],
   "source": [
    "class VGG16Base(nn.Module):\n",
    "  def __init__(self, size_of_channel):\n",
    "    super(VGG16Base, self).__init__()\n",
    "    self.size_of_channel = size_of_channel\n",
    "    # conv 1\n",
    "    self.conv_1_1 = nn.Conv2d(size_of_channel, 64, kernel_size=(3, 3), padding=(1, 1))\n",
    "    self.conv_1_2 = nn.Conv2d(64, 64, kernel_size=(3, 3), padding=(1, 1))\n",
    "    self.max_pooling_1 = nn.MaxPool2d(kernel_size=(2, 2), stride=(2, 2))\n",
    "    # conv 2\n",
    "    self.conv_2_1 = nn.Conv2d(64, 128, kernel_size=(3, 3), padding=(1, 1))\n",
    "    self.conv_2_2 = nn.Conv2d(128, 128, kernel_size=(3, 3), padding=(1, 1))\n",
    "    self.max_pooling_2 = nn.MaxPool2d(kernel_size=(2, 2), stride=(2, 2))\n",
    "    # conv 3\n",
    "    self.conv_3_1 = nn.Conv2d(128, 256, kernel_size=(3, 3), padding=(1, 1))\n",
    "    self.conv_3_2 = nn.Conv2d(256, 256, kernel_size=(3, 3), padding=(1, 1))\n",
    "    self.conv_3_3 = nn.Conv2d(256, 256, kernel_size=(3, 3), padding=(1, 1))\n",
    "    self.max_pooling_3 = nn.MaxPool2d(kernel_size=(2, 2), stride=(2, 2), ceil_mode=True)\n",
    "    # conv 4\n",
    "    self.conv_4_1 = nn.Conv2d(256, 512, kernel_size=(3, 3), padding=(1, 1))\n",
    "    self.conv_4_2 = nn.Conv2d(512, 512, kernel_size=(3, 3), padding=(1, 1))\n",
    "    self.conv_4_3 = nn.Conv2d(512, 512, kernel_size=(3, 3), padding=(1, 1))\n",
    "    self.max_pooling_4 = nn.MaxPool2d(kernel_size=(2, 2), stride=(2, 2))\n",
    "    # conv 5\n",
    "    self.conv_5_1 = nn.Conv2d(512, 512, kernel_size=(3, 3), padding=(1, 1))\n",
    "    self.conv_5_2 = nn.Conv2d(512, 512, kernel_size=(3, 3), padding=(1, 1))\n",
    "    self.conv_5_3 = nn.Conv2d(512, 512, kernel_size=(3, 3), padding=(1, 1))\n",
    "    self.max_pooling_5 = nn.MaxPool2d(kernel_size=(3, 3), stride=(1, 1), padding=1)\n",
    "\n",
    "    self.conv_6 = nn.Conv2d(512, 1024, kernel_size=(3, 3), padding=6, dilation=6)\n",
    "    self.conv_7 = nn.Conv2d(1024, 1024, kernel_size=(1, 1))\n",
    "\n",
    "  def forward(self, x):\n",
    "    y = F.relu(self.conv_1_1(x))\n",
    "    y = F.relu(self.conv_1_2(y))\n",
    "    y = self.max_pooling_1(y)\n",
    "\n",
    "    y = F.relu(self.conv_2_1(y))\n",
    "    y = F.relu(self.conv_2_2(y))\n",
    "    y = self.max_pooling_2(y)\n",
    "\n",
    "    y = F.relu(self.conv_3_1(y))\n",
    "    y = F.relu(self.conv_3_2(y))\n",
    "    y = F.relu(self.conv_3_3(y))\n",
    "    y = self.max_pooling_3(y)\n",
    "\n",
    "    y = F.relu(self.conv_4_1(y))\n",
    "    y = F.relu(self.conv_4_2(y))\n",
    "    y = F.relu(self.conv_4_3(y))\n",
    "    conv4_3_output = y\n",
    "    y = self.max_pooling_4(y)\n",
    "\n",
    "    y = F.relu(self.conv_5_1(y))\n",
    "    y = F.relu(self.conv_5_2(y))\n",
    "    y = F.relu(self.conv_5_3(y))\n",
    "    y = self.max_pooling_5(y)\n",
    "\n",
    "    y = self.conv_6(y)\n",
    "    conv7_output = self.conv_7(y)\n",
    "    return conv4_3_output, conv7_output"
   ]
  },
  {
   "cell_type": "markdown",
   "metadata": {
    "id": "RRSvAfL1gr5W"
   },
   "source": [
    "### SSD 클래스 모듈 - Auxiliary Conv"
   ]
  },
  {
   "cell_type": "code",
   "execution_count": 7,
   "metadata": {
    "executionInfo": {
     "elapsed": 14,
     "status": "ok",
     "timestamp": 1638370472856,
     "user": {
      "displayName": "이승연",
      "photoUrl": "https://lh3.googleusercontent.com/a/default-user=s64",
      "userId": "04501222278958998661"
     },
     "user_tz": -540
    },
    "id": "dt4ZPR8-gn6S"
   },
   "outputs": [],
   "source": [
    "class AuxiliaryConv(nn.Module):\n",
    "  def __init__(self):\n",
    "    super(AuxiliaryConv, self).__init__()\n",
    "    # conv 8\n",
    "    self.conv_8_1 = nn.Conv2d(1024, 256, kernel_size=(1, 1), padding=0)\n",
    "    self.conv_8_2 = nn.Conv2d(256, 512, kernel_size=(3, 3), padding=1, stride=2)\n",
    "\n",
    "    # conv 9\n",
    "    self.conv_9_1 = nn.Conv2d(512, 128, kernel_size=(1, 1), padding=0)\n",
    "    self.conv_9_2 = nn.Conv2d(128, 256, kernel_size=(3, 3), padding=1, stride=2)\n",
    "\n",
    "    # conv 10\n",
    "    self.conv_10_1 = nn.Conv2d(256, 128, kernel_size=(1, 1), padding=0)\n",
    "    self.conv_10_2 = nn.Conv2d(128, 256, kernel_size=(3, 3), padding=0)\n",
    "\n",
    "    # conv 11\n",
    "    self.conv_11_1 = nn.Conv2d(256, 128, kernel_size=(1, 1), padding=0)\n",
    "    self.conv_11_2 = nn.Conv2d(128, 256, kernel_size=(3, 3), padding=0)\n",
    "\n",
    "    self.__init_weights__()\n",
    "  \n",
    "  def forward(self, x):\n",
    "    y = F.relu(self.conv_8_1(x))\n",
    "    y = F.relu(self.conv_8_2(y))\n",
    "    conv8_output = y\n",
    "\n",
    "    y = F.relu(self.conv_9_1(y))\n",
    "    y = F.relu(self.conv_9_2(y))\n",
    "    conv9_output = y\n",
    "\n",
    "    y = F.relu(self.conv_10_1(y))\n",
    "    y = F.relu(self.conv_10_2(y))\n",
    "    conv10_output = y\n",
    "\n",
    "    y = F.relu(self.conv_11_1(y))\n",
    "    y = F.relu(self.conv_11_2(y))\n",
    "    conv11_output = y\n",
    "    return conv8_output, conv9_output, conv10_output, conv11_output\n",
    "  \n",
    "  def __init_weights__(self):\n",
    "    for module in self.children():\n",
    "      if isinstance(module, nn.Conv2d):\n",
    "        nn.init.xavier_uniform_(module.weight)\n",
    "        nn.init.constant_(module.bias, 0)"
   ]
  },
  {
   "cell_type": "markdown",
   "metadata": {
    "id": "5S4yg9nMkPWU"
   },
   "source": [
    "### SSD 클래스 모듈 - Prediction Conv"
   ]
  },
  {
   "cell_type": "code",
   "execution_count": 8,
   "metadata": {
    "executionInfo": {
     "elapsed": 13,
     "status": "ok",
     "timestamp": 1638370472857,
     "user": {
      "displayName": "이승연",
      "photoUrl": "https://lh3.googleusercontent.com/a/default-user=s64",
      "userId": "04501222278958998661"
     },
     "user_tz": -540
    },
    "id": "1PZCNZWhkPkk"
   },
   "outputs": [],
   "source": [
    "PREV_BOXES = {\n",
    "    'conv4_3': 4,\n",
    "    'conv7': 6,\n",
    "    'conv8_2': 6,\n",
    "    'conv9_2': 6,\n",
    "    'conv10_2': 4,\n",
    "    'conv11_2': 4\n",
    "}\n",
    "class PredictionConv(nn.Module):\n",
    "  def __init__(self, number_of_class):\n",
    "    super(PredictionConv, self).__init__()\n",
    "    self.number_of_class = number_of_class\n",
    "    self.localization_conv4_3 = nn.Conv2d(512, (PREV_BOXES['conv4_3'] * 4), kernel_size=(3, 3), padding=1)\n",
    "    self.localization_conv7 = nn.Conv2d(1024, (PREV_BOXES['conv7'] * 4), kernel_size=(3, 3), padding=1)\n",
    "    self.localization_conv8_2 = nn.Conv2d(512, (PREV_BOXES['conv8_2'] * 4), kernel_size=(3, 3), padding=1)\n",
    "    self.localization_conv9_2 = nn.Conv2d(256, (PREV_BOXES['conv9_2'] * 4), kernel_size=(3, 3), padding=1)\n",
    "    self.localization_conv10_2 = nn.Conv2d(256, (PREV_BOXES['conv10_2'] * 4), kernel_size=(3, 3), padding=1)\n",
    "    self.localization_conv11_2 = nn.Conv2d(256, (PREV_BOXES['conv11_2'] * 4), kernel_size=(3, 3), padding=1)\n",
    "    \n",
    "    self.class_prediction_conv4_3 = nn.Conv2d(512, (PREV_BOXES['conv4_3'] * number_of_class), kernel_size=(3, 3), padding=1)\n",
    "    self.class_prediction_conv7 = nn.Conv2d(1024, (PREV_BOXES['conv7'] * number_of_class), kernel_size=(3, 3), padding=1)\n",
    "    self.class_prediction_conv8_2 = nn.Conv2d(512, (PREV_BOXES['conv8_2'] * number_of_class), kernel_size=(3, 3), padding=1)\n",
    "    self.class_prediction_conv9_2 = nn.Conv2d(256, (PREV_BOXES['conv9_2'] * number_of_class), kernel_size=(3, 3), padding=1)\n",
    "    self.class_prediction_conv10_2 = nn.Conv2d(256, (PREV_BOXES['conv10_2'] * number_of_class), kernel_size=(3, 3), padding=1)\n",
    "    self.class_prediction_conv11_2 = nn.Conv2d(256, (PREV_BOXES['conv11_2'] * number_of_class), kernel_size=(3, 3), padding=1)\n",
    "    \n",
    "    self.__init_weights__()\n",
    "  \n",
    "  def forward(self, features_4_3, features_7, features_8_2, features_9_2, features_10_2, features_11_2):\n",
    "    batch_size = features_4_3.size(0)\n",
    "    output_loc_conv_4_3 = self.__predict_box_bounds__(batch_size, self.localization_conv4_3, features_4_3, 4)\n",
    "    output_loc_conv7 = self.__predict_box_bounds__(batch_size, self.localization_conv7, features_7, 4)\n",
    "    output_loc_conv_8_2 = self.__predict_box_bounds__(batch_size, self.localization_conv8_2, features_8_2, 4)\n",
    "    output_loc_conv_9_2 = self.__predict_box_bounds__(batch_size, self.localization_conv9_2, features_9_2, 4)\n",
    "    output_loc_conv_10_2 = self.__predict_box_bounds__(batch_size, self.localization_conv10_2, features_10_2, 4)\n",
    "    output_loc_conv_11_2 = self.__predict_box_bounds__(batch_size, self.localization_conv11_2, features_11_2, 4)\n",
    "    \n",
    "    output_class_conv_4_3= self.__predict_box_bounds__(batch_size, self.class_prediction_conv4_3, features_4_3, self.number_of_class)\n",
    "    output_class_conv7 = self.__predict_box_bounds__(batch_size, self.class_prediction_conv7, features_7, self.number_of_class)\n",
    "    output_class_conv_8_2 = self.__predict_box_bounds__(batch_size, self.class_prediction_conv8_2, features_8_2, self.number_of_class)\n",
    "    output_class_conv_9_2 = self.__predict_box_bounds__(batch_size, self.class_prediction_conv9_2, features_9_2, self.number_of_class)\n",
    "    output_class_conv_10_2 = self.__predict_box_bounds__(batch_size, self.class_prediction_conv10_2, features_10_2, self.number_of_class)\n",
    "    output_class_conv_11_2 = self.__predict_box_bounds__(batch_size, self.class_prediction_conv11_2, features_11_2, self.number_of_class)\n",
    "\n",
    "    loss = torch.cat([output_loc_conv_4_3, output_loc_conv7, output_loc_conv_8_2,\n",
    "                      output_loc_conv_9_2, output_loc_conv_10_2, output_loc_conv_11_2], dim=1)\n",
    "    class_scores = torch.cat([output_class_conv_4_3, output_class_conv7, output_class_conv_8_2,\n",
    "                      output_class_conv_9_2, output_class_conv_10_2, output_class_conv_11_2], dim=1)\n",
    "    return loss, class_scores\n",
    "  \n",
    "  def __predict_box_bounds__(self, batch_size, conv, input_features, shape):\n",
    "    output = conv(input_features)\n",
    "    output = output.permute(0, 2, 3, 1).contiguous()\n",
    "    output = output.view(batch_size, -1, shape)\n",
    "    return output\n",
    "  \n",
    "  def __init_weights__(self):\n",
    "    for module in self.children():\n",
    "      if isinstance(module, nn.Conv2d):\n",
    "        nn.init.xavier_uniform_(module.weight)\n",
    "        nn.init.constant_(module.bias, 0)"
   ]
  },
  {
   "cell_type": "markdown",
   "metadata": {
    "id": "SWVcYOo2pOUH"
   },
   "source": [
    "### SSD 클래스"
   ]
  },
  {
   "cell_type": "code",
   "execution_count": 9,
   "metadata": {
    "executionInfo": {
     "elapsed": 12,
     "status": "ok",
     "timestamp": 1638370472857,
     "user": {
      "displayName": "이승연",
      "photoUrl": "https://lh3.googleusercontent.com/a/default-user=s64",
      "userId": "04501222278958998661"
     },
     "user_tz": -540
    },
    "id": "AJEXIqWZpOcy"
   },
   "outputs": [],
   "source": [
    "class MySSD(nn.Module):\n",
    "  def __init__(self, size_of_channel, number_of_class):\n",
    "    super(MySSD, self).__init__()\n",
    "    self.vgg16_base = VGG16Base(size_of_channel)\n",
    "    self.extra_feature_layers = AuxiliaryConv()\n",
    "    self.predict_conv = PredictionConv(number_of_class)\n",
    "  \n",
    "  def forward(self, x):\n",
    "    conv4_3_features, conv7_features = self.vgg16_base(x)\n",
    "    conv8_features, conv9_features, conv10_features, conv11_features = self.extra_feature_layers(conv7_features)\n",
    "    loss, class_scores = self.predict_conv(conv4_3_features, conv7_features, conv8_features, conv9_features, conv10_features, conv11_features)\n",
    "    return loss, class_scores"
   ]
  },
  {
   "cell_type": "markdown",
   "metadata": {
    "id": "ziSijHGmp-Mi"
   },
   "source": [
    "## CIFAR10"
   ]
  },
  {
   "cell_type": "code",
   "execution_count": 10,
   "metadata": {
    "executionInfo": {
     "elapsed": 12,
     "status": "ok",
     "timestamp": 1638370472858,
     "user": {
      "displayName": "이승연",
      "photoUrl": "https://lh3.googleusercontent.com/a/default-user=s64",
      "userId": "04501222278958998661"
     },
     "user_tz": -540
    },
    "id": "l2MbJpPQs5DG"
   },
   "outputs": [],
   "source": [
    "device = get_device()"
   ]
  },
  {
   "cell_type": "code",
   "execution_count": 11,
   "metadata": {
    "colab": {
     "base_uri": "https://localhost:8080/"
    },
    "executionInfo": {
     "elapsed": 32614,
     "status": "ok",
     "timestamp": 1638370505461,
     "user": {
      "displayName": "이승연",
      "photoUrl": "https://lh3.googleusercontent.com/a/default-user=s64",
      "userId": "04501222278958998661"
     },
     "user_tz": -540
    },
    "id": "sUVe_taYsvMk",
    "outputId": "c811c2a8-4f01-4187-e24d-a4371b35bd92"
   },
   "outputs": [
    {
     "name": "stdout",
     "output_type": "stream",
     "text": [
      "Files already downloaded and verified\n",
      "Files already downloaded and verified\n"
     ]
    }
   ],
   "source": [
    "training_dataset_cifar10 = datasets.CIFAR10(\n",
    "    root=basic_path + '/data', train=True, download=True, transform=transforms.ToTensor(),\n",
    ")\n",
    "test_dataset_cifar10 = datasets.CIFAR10(\n",
    "    root=basic_path + '/data', train=False, download=True, transform=transforms.ToTensor(),\n",
    ")\n",
    "\n",
    "rgb_mean, rgb_std = get_mean_std('rgb', training_dataset_cifar10)\n",
    "rgb_transform = transforms.Compose([\n",
    "  transforms.ToTensor(),\n",
    "  transforms.RandomHorizontalFlip(),\n",
    "  transforms.Resize(300),\n",
    "  transforms.Normalize(mean=[rgb_mean], std=[rgb_std])\n",
    "])\n",
    "training_dataset_cifar10.transform = rgb_transform\n",
    "test_dataset_cifar10.transform = rgb_transform"
   ]
  },
  {
   "cell_type": "code",
   "execution_count": 12,
   "metadata": {
    "colab": {
     "base_uri": "https://localhost:8080/"
    },
    "executionInfo": {
     "elapsed": 520,
     "status": "ok",
     "timestamp": 1638370505895,
     "user": {
      "displayName": "이승연",
      "photoUrl": "https://lh3.googleusercontent.com/a/default-user=s64",
      "userId": "04501222278958998661"
     },
     "user_tz": -540
    },
    "id": "V8PI16OasvPg",
    "outputId": "fbf3f351-18b4-4b63-c58a-f845c90374bb"
   },
   "outputs": [
    {
     "name": "stdout",
     "output_type": "stream",
     "text": [
      "Shape of X [N, C, H, W]: torch.Size([64, 3, 300, 300])\n",
      "Shape of y: torch.Size([64]) torch.int64\n"
     ]
    }
   ],
   "source": [
    "training_dataloader_cifar10 = DataLoader(training_dataset_cifar10, batch_size=64)\n",
    "test_dataloader_cifar10 = DataLoader(test_dataset_cifar10, batch_size=64)\n",
    "\n",
    "for X, y in test_dataloader_cifar10:\n",
    "  print('Shape of X [N, C, H, W]:', X.shape)\n",
    "  print('Shape of y:', y.shape, y.dtype)\n",
    "  break"
   ]
  },
  {
   "cell_type": "code",
   "execution_count": 25,
   "metadata": {
    "executionInfo": {
     "elapsed": 9108,
     "status": "ok",
     "timestamp": 1638371381436,
     "user": {
      "displayName": "이승연",
      "photoUrl": "https://lh3.googleusercontent.com/a/default-user=s64",
      "userId": "04501222278958998661"
     },
     "user_tz": -540
    },
    "id": "jsyaYi8xsvSD"
   },
   "outputs": [],
   "source": [
    "number_of_cifar10_classes = 10\n",
    "model_cifar10 = MySSD(3, number_of_cifar10_classes)\n",
    "model_cifar10 = model_cifar10.to(device)"
   ]
  },
  {
   "cell_type": "code",
   "execution_count": 26,
   "metadata": {
    "colab": {
     "base_uri": "https://localhost:8080/"
    },
    "executionInfo": {
     "elapsed": 25,
     "status": "ok",
     "timestamp": 1638371381438,
     "user": {
      "displayName": "이승연",
      "photoUrl": "https://lh3.googleusercontent.com/a/default-user=s64",
      "userId": "04501222278958998661"
     },
     "user_tz": -540
    },
    "id": "8viRf5nss1iP",
    "outputId": "a9221775-dbd6-447a-e8ce-ad31c50d53db"
   },
   "outputs": [
    {
     "name": "stdout",
     "output_type": "stream",
     "text": [
      "----------------------------------------------------------------\n",
      "        Layer (type)               Output Shape         Param #\n",
      "================================================================\n",
      "            Conv2d-1         [-1, 64, 300, 300]           1,792\n",
      "            Conv2d-2         [-1, 64, 300, 300]          36,928\n",
      "         MaxPool2d-3         [-1, 64, 150, 150]               0\n",
      "            Conv2d-4        [-1, 128, 150, 150]          73,856\n",
      "            Conv2d-5        [-1, 128, 150, 150]         147,584\n",
      "         MaxPool2d-6          [-1, 128, 75, 75]               0\n",
      "            Conv2d-7          [-1, 256, 75, 75]         295,168\n",
      "            Conv2d-8          [-1, 256, 75, 75]         590,080\n",
      "            Conv2d-9          [-1, 256, 75, 75]         590,080\n",
      "        MaxPool2d-10          [-1, 256, 38, 38]               0\n",
      "           Conv2d-11          [-1, 512, 38, 38]       1,180,160\n",
      "           Conv2d-12          [-1, 512, 38, 38]       2,359,808\n",
      "           Conv2d-13          [-1, 512, 38, 38]       2,359,808\n",
      "        MaxPool2d-14          [-1, 512, 19, 19]               0\n",
      "           Conv2d-15          [-1, 512, 19, 19]       2,359,808\n",
      "           Conv2d-16          [-1, 512, 19, 19]       2,359,808\n",
      "           Conv2d-17          [-1, 512, 19, 19]       2,359,808\n",
      "        MaxPool2d-18          [-1, 512, 19, 19]               0\n",
      "           Conv2d-19         [-1, 1024, 19, 19]       4,719,616\n",
      "           Conv2d-20         [-1, 1024, 19, 19]       1,049,600\n",
      "        VGG16Base-21  [[-1, 512, 38, 38], [-1, 1024, 19, 19]]               0\n",
      "           Conv2d-22          [-1, 256, 19, 19]         262,400\n",
      "           Conv2d-23          [-1, 512, 10, 10]       1,180,160\n",
      "           Conv2d-24          [-1, 128, 10, 10]          65,664\n",
      "           Conv2d-25            [-1, 256, 5, 5]         295,168\n",
      "           Conv2d-26            [-1, 128, 5, 5]          32,896\n",
      "           Conv2d-27            [-1, 256, 3, 3]         295,168\n",
      "           Conv2d-28            [-1, 128, 3, 3]          32,896\n",
      "           Conv2d-29            [-1, 256, 1, 1]         295,168\n",
      "    AuxiliaryConv-30  [[-1, 512, 10, 10], [-1, 256, 5, 5], [-1, 256, 3, 3], [-1, 256, 1, 1]]               0\n",
      "           Conv2d-31           [-1, 16, 38, 38]          73,744\n",
      "           Conv2d-32           [-1, 24, 19, 19]         221,208\n",
      "           Conv2d-33           [-1, 24, 10, 10]         110,616\n",
      "           Conv2d-34             [-1, 24, 5, 5]          55,320\n",
      "           Conv2d-35             [-1, 16, 3, 3]          36,880\n",
      "           Conv2d-36             [-1, 16, 1, 1]          36,880\n",
      "           Conv2d-37           [-1, 40, 38, 38]         184,360\n",
      "           Conv2d-38           [-1, 60, 19, 19]         553,020\n",
      "           Conv2d-39           [-1, 60, 10, 10]         276,540\n",
      "           Conv2d-40             [-1, 60, 5, 5]         138,300\n",
      "           Conv2d-41             [-1, 40, 3, 3]          92,200\n",
      "           Conv2d-42             [-1, 40, 1, 1]          92,200\n",
      "   PredictionConv-43  [[-1, 8732, 4], [-1, 8732, 10]]               0\n",
      "================================================================\n",
      "Total params: 24,814,692\n",
      "Trainable params: 24,814,692\n",
      "Non-trainable params: 0\n",
      "----------------------------------------------------------------\n",
      "Input size (MB): 1.03\n",
      "Forward/backward pass size (MB): 1476668189.05\n",
      "Params size (MB): 94.66\n",
      "Estimated Total Size (MB): 1476668284.74\n",
      "----------------------------------------------------------------\n"
     ]
    }
   ],
   "source": [
    "summary(model_cifar10, input_size=(3, 300, 300))"
   ]
  }
 ],
 "metadata": {
  "accelerator": "GPU",
  "colab": {
   "authorship_tag": "ABX9TyMqPIxDTxJLlfW2R0oTeo2l",
   "collapsed_sections": [
    "E2W6ukukmdZW",
    "QJFacm0Geru0",
    "DQm64nXHnAyN",
    "jlsjscDZnCuF",
    "RRSvAfL1gr5W",
    "5S4yg9nMkPWU"
   ],
   "name": "ssd2.ipynb",
   "provenance": []
  },
  "kernelspec": {
   "display_name": "Python 3",
   "language": "python",
   "name": "python3"
  },
  "language_info": {
   "codemirror_mode": {
    "name": "ipython",
    "version": 3
   },
   "file_extension": ".py",
   "mimetype": "text/x-python",
   "name": "python",
   "nbconvert_exporter": "python",
   "pygments_lexer": "ipython3",
   "version": "3.7.5"
  }
 },
 "nbformat": 4,
 "nbformat_minor": 1
}
