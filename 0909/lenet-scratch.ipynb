{
 "cells": [
  {
   "cell_type": "code",
   "execution_count": 1,
   "metadata": {},
   "outputs": [],
   "source": [
    "# 1. Import packages\n",
    "%matplotlib inline\n",
    "import torch\n",
    "from torch import nn\n",
    "from torch.utils.data import DataLoader\n",
    "from torchvision import datasets\n",
    "from torchvision.transforms import ToTensor, Lambda, Compose\n",
    "import torch.nn.functional as F\n",
    "import matplotlib.pyplot as plt"
   ]
  },
  {
   "cell_type": "code",
   "execution_count": 2,
   "metadata": {},
   "outputs": [
    {
     "name": "stderr",
     "output_type": "stream",
     "text": [
      "d:\\program\\python\\python37\\lib\\site-packages\\torchvision\\datasets\\mnist.py:498: UserWarning: The given NumPy array is not writeable, and PyTorch does not support non-writeable tensors. This means you can write to the underlying (supposedly non-writeable) NumPy array using the tensor. You may want to copy the array to protect its data or make it writeable before converting it to a tensor. This type of warning will be suppressed for the rest of this program. (Triggered internally at  ..\\torch\\csrc\\utils\\tensor_numpy.cpp:180.)\n",
      "  return torch.from_numpy(parsed.astype(m[2], copy=False)).view(*s)\n"
     ]
    }
   ],
   "source": [
    "# 2. Load data\n",
    "training_data = datasets.MNIST(\n",
    "    root=\"data\",\n",
    "    train=True,\n",
    "    download=True,\n",
    "    transform=ToTensor(),\n",
    ")\n",
    "\n",
    "test_data = datasets.MNIST(\n",
    "    root=\"data\",\n",
    "    train=False,\n",
    "    download=True,\n",
    "    transform=ToTensor(),\n",
    ")"
   ]
  },
  {
   "cell_type": "code",
   "execution_count": 3,
   "metadata": {},
   "outputs": [
    {
     "name": "stdout",
     "output_type": "stream",
     "text": [
      "Shape of X [N, C, H, W]:  torch.Size([64, 1, 28, 28])\n",
      "Shape of y:  torch.Size([64]) torch.int64\n"
     ]
    }
   ],
   "source": [
    "batch_size = 64\n",
    "\n",
    "# Create data loaders\n",
    "train_dataloader = DataLoader(training_data, batch_size=batch_size)\n",
    "test_dataloader = DataLoader(test_data, batch_size=batch_size)\n",
    "\n",
    "for X, y in test_dataloader:\n",
    "    print(\"Shape of X [N, C, H, W]: \", X.shape)\n",
    "    print(\"Shape of y: \", y.shape, y.dtype)\n",
    "    break"
   ]
  },
  {
   "cell_type": "code",
   "execution_count": 25,
   "metadata": {},
   "outputs": [
    {
     "name": "stdout",
     "output_type": "stream",
     "text": [
      "LeNet(\n",
      "  (conv1): Conv2d(1, 6, kernel_size=(4, 4), stride=(1, 1))\n",
      "  (conv2): Conv2d(6, 16, kernel_size=(4, 4), stride=(1, 1))\n",
      "  (conv3): Conv2d(16, 120, kernel_size=(4, 4), stride=(1, 1))\n",
      "  (fc1): Linear(in_features=120, out_features=84, bias=True)\n",
      "  (fc2): Linear(in_features=84, out_features=10, bias=True)\n",
      ")\n"
     ]
    }
   ],
   "source": [
    "# 3. Create LeNet model\n",
    "# 비교해보면 좋을 코드 1: https://www.youtube.com/watch?v=fcOW-Zyb5Bo\n",
    "class LeNet(nn.Module):\n",
    "\n",
    "    def __init__(self):\n",
    "        super(LeNet, self).__init__()\n",
    "        # 입력 이미지: 채널 1개, 출력 채널 6개, 5x5 정사각 convoluation layer\n",
    "        # 5x5로 하면 에러나서 4x4의 convluation layer\n",
    "        # padding을 바꿔도 됨\n",
    "        self.conv1 = nn.Conv2d(1, 6, kernel_size=(4, 4), stride=(1, 1), padding=(0, 0))\n",
    "        # 6개 채널, 16개 채널로 변환\n",
    "        self.conv2 = nn.Conv2d(6, 16, kernel_size=4, stride=1, padding=0)\n",
    "        self.conv3 = nn.Conv2d(16, 120, kernel_size=4, stride=1) # default padding: 0, default stride: 1\n",
    "\n",
    "        self.fc1 = nn.Linear(120, 84)\n",
    "        self.fc2 = nn.Linear(84, 10)\n",
    "\n",
    "    def forward(self, x):\n",
    "        x = F.tanh(self.conv1(x))\n",
    "        x = F.avg_pool2d(x, kernel_size=(2, 2), stride=(2, 2))\n",
    "        x = F.tanh(self.conv2(x))\n",
    "        x = F.avg_pool2d(x, 2, 2)\n",
    "        x = F.tanh(self.conv3(x))\n",
    "        # x = x.view(-1, 120)\n",
    "        x = torch.flatten(x, 1)\n",
    "        x = F.tanh(self.fc1(x))\n",
    "        x = self.fc2(x)\n",
    "        return F.softmax(x, dim=1)\n",
    "\n",
    "\n",
    "model = LeNet()\n",
    "print(model)"
   ]
  },
  {
   "cell_type": "code",
   "execution_count": 14,
   "metadata": {},
   "outputs": [
    {
     "name": "stdout",
     "output_type": "stream",
     "text": [
      "Using cpu device\n",
      "Parameter containing:\n",
      "tensor([[[[ 0.1047, -0.0163,  0.1082,  0.2330],\n",
      "          [-0.1238, -0.0171, -0.1885, -0.1406],\n",
      "          [-0.1599, -0.0070, -0.1758, -0.1848],\n",
      "          [-0.1018,  0.0348,  0.1518,  0.1586]]],\n",
      "\n",
      "\n",
      "        [[[-0.1102, -0.2358,  0.0876,  0.0812],\n",
      "          [ 0.0241,  0.1209,  0.0330, -0.0246],\n",
      "          [-0.1026, -0.0312,  0.1346, -0.1026],\n",
      "          [-0.1302, -0.0293, -0.1996, -0.1880]]],\n",
      "\n",
      "\n",
      "        [[[-0.0157, -0.0423,  0.1303, -0.0719],\n",
      "          [-0.2248, -0.0662,  0.1039, -0.2302],\n",
      "          [ 0.0938, -0.1470,  0.1793,  0.0837],\n",
      "          [ 0.0861,  0.0005, -0.1163, -0.1968]]],\n",
      "\n",
      "\n",
      "        [[[-0.0182,  0.0051, -0.0422,  0.0783],\n",
      "          [-0.1988,  0.0866,  0.0651, -0.0758],\n",
      "          [-0.0983,  0.2203, -0.0400,  0.0905],\n",
      "          [-0.1756, -0.2433, -0.1619,  0.1520]]],\n",
      "\n",
      "\n",
      "        [[[ 0.0399, -0.0658,  0.0232,  0.1684],\n",
      "          [ 0.2412, -0.1790, -0.0943, -0.0768],\n",
      "          [-0.1617,  0.2076,  0.0428, -0.1546],\n",
      "          [ 0.0383, -0.1388,  0.2007, -0.0404]]],\n",
      "\n",
      "\n",
      "        [[[-0.2021, -0.0618, -0.1229, -0.0839],\n",
      "          [-0.1635, -0.2424,  0.1868,  0.0441],\n",
      "          [ 0.1196,  0.1315,  0.0416,  0.2393],\n",
      "          [-0.2001,  0.1296,  0.2498,  0.0075]]]], requires_grad=True)\n"
     ]
    }
   ],
   "source": [
    "device = \"cuda\" if torch.cuda.is_available() else \"cpu\"\n",
    "print(\"Using {} device\".format(device))\n",
    "\n",
    "model.to(device)\n",
    "print(next(model.parameters()))"
   ]
  },
  {
   "cell_type": "code",
   "execution_count": 15,
   "metadata": {},
   "outputs": [
    {
     "name": "stdout",
     "output_type": "stream",
     "text": [
      "----------------------------------------------------------------\n",
      "        Layer (type)               Output Shape         Param #\n",
      "================================================================\n",
      "            Conv2d-1            [-1, 6, 25, 25]             102\n",
      "            Conv2d-2             [-1, 16, 9, 9]           1,552\n",
      "            Conv2d-3            [-1, 120, 1, 1]          30,840\n",
      "            Linear-4                   [-1, 84]          10,164\n",
      "            Linear-5                   [-1, 10]             850\n",
      "================================================================\n",
      "Total params: 43,508\n",
      "Trainable params: 43,508\n",
      "Non-trainable params: 0\n",
      "----------------------------------------------------------------\n",
      "Input size (MB): 0.00\n",
      "Forward/backward pass size (MB): 0.04\n",
      "Params size (MB): 0.17\n",
      "Estimated Total Size (MB): 0.21\n",
      "----------------------------------------------------------------\n"
     ]
    }
   ],
   "source": [
    "from torchsummary import summary\n",
    "summary(model, input_size=(1, 28, 28))"
   ]
  },
  {
   "cell_type": "code",
   "execution_count": 16,
   "metadata": {},
   "outputs": [],
   "source": [
    "# reduction 'sum': 데이터의 loss가 너무 작을 때 사용. default average\n",
    "loss_fn = nn.CrossEntropyLoss(reduction='sum')\n",
    "optimizer = torch.optim.Adam(model.parameters(), lr=1e-3)"
   ]
  },
  {
   "cell_type": "code",
   "execution_count": 17,
   "metadata": {},
   "outputs": [],
   "source": [
    "def train(dataloader, model, loss_fn, optimizer):\n",
    "    size = len(dataloader.dataset)\n",
    "    for batch, (X, y) in enumerate(dataloader):\n",
    "        X, y = X.to(device), y.to(device)\n",
    "\n",
    "        # forward\n",
    "        pred = model(X)\n",
    "        loss = loss_fn(pred, y)\n",
    "\n",
    "        # backword\n",
    "        optimizer.zero_grad()\n",
    "        loss.backward()\n",
    "        optimizer.step()\n",
    "\n",
    "        if batch % 100 == 0:\n",
    "            loss, current = loss.item(), batch * len(X)\n",
    "            print(f\"loss: {loss:>7f}  [{current:>5d}/{size:>5d}]\")"
   ]
  },
  {
   "cell_type": "code",
   "execution_count": 18,
   "metadata": {},
   "outputs": [],
   "source": [
    "def test(dataloader, model, loss_fn):\n",
    "    size = len(dataloader.dataset)\n",
    "    num_batches = len(dataloader)\n",
    "    model.eval()\n",
    "    test_loss, correct = 0, 0\n",
    "    with torch.no_grad():\n",
    "        for X, y in dataloader:\n",
    "            X, y = X.to(device), y.to(device)\n",
    "            pred = model(X)\n",
    "            test_loss += loss_fn(pred, y).item()\n",
    "            correct += (pred.argmax(1) == y).type(torch.float).sum().item()\n",
    "    test_loss /= num_batches\n",
    "    correct /= size\n",
    "    print(f\"Test Error: \\n Accuracy: {(100*correct):>0.1f}%, Avg loss: {test_loss:>8f} \\n\")"
   ]
  },
  {
   "cell_type": "code",
   "execution_count": 19,
   "metadata": {},
   "outputs": [
    {
     "name": "stdout",
     "output_type": "stream",
     "text": [
      "Epoch 1\n",
      "-------------------------------\n",
      "loss: 147.445374  [    0/60000]\n",
      "loss: 106.474106  [ 6400/60000]\n",
      "loss: 101.045715  [12800/60000]\n",
      "loss: 101.037827  [19200/60000]\n",
      "loss: 101.972282  [25600/60000]\n",
      "loss: 101.661926  [32000/60000]\n",
      "loss: 99.746559  [38400/60000]\n",
      "loss: 101.614075  [44800/60000]\n",
      "loss: 98.514923  [51200/60000]\n",
      "loss: 98.295296  [57600/60000]\n",
      "Test Error: \n",
      " Accuracy: 94.0%, Avg loss: 97.279851 \n",
      "\n",
      "Epoch 2\n",
      "-------------------------------\n",
      "loss: 96.669487  [    0/60000]\n",
      "loss: 97.450661  [ 6400/60000]\n",
      "loss: 98.648758  [12800/60000]\n",
      "loss: 97.410240  [19200/60000]\n",
      "loss: 95.558647  [25600/60000]\n",
      "loss: 97.741684  [32000/60000]\n",
      "loss: 94.876572  [38400/60000]\n",
      "loss: 98.802307  [44800/60000]\n",
      "loss: 95.733788  [51200/60000]\n",
      "loss: 97.017715  [57600/60000]\n",
      "Test Error: \n",
      " Accuracy: 96.1%, Avg loss: 95.681487 \n",
      "\n",
      "Epoch 3\n",
      "-------------------------------\n",
      "loss: 95.003609  [    0/60000]\n",
      "loss: 97.154594  [ 6400/60000]\n",
      "loss: 96.684547  [12800/60000]\n",
      "loss: 96.896324  [19200/60000]\n",
      "loss: 94.835556  [25600/60000]\n",
      "loss: 95.567375  [32000/60000]\n",
      "loss: 94.752052  [38400/60000]\n",
      "loss: 96.832382  [44800/60000]\n",
      "loss: 95.348740  [51200/60000]\n",
      "loss: 96.517479  [57600/60000]\n",
      "Test Error: \n",
      " Accuracy: 96.8%, Avg loss: 95.280700 \n",
      "\n",
      "Epoch 4\n",
      "-------------------------------\n",
      "loss: 94.573936  [    0/60000]\n",
      "loss: 96.544411  [ 6400/60000]\n",
      "loss: 96.197891  [12800/60000]\n",
      "loss: 94.642647  [19200/60000]\n",
      "loss: 95.058495  [25600/60000]\n",
      "loss: 96.056183  [32000/60000]\n",
      "loss: 94.725349  [38400/60000]\n",
      "loss: 97.053497  [44800/60000]\n",
      "loss: 94.999649  [51200/60000]\n",
      "loss: 96.553177  [57600/60000]\n",
      "Test Error: \n",
      " Accuracy: 97.1%, Avg loss: 94.946716 \n",
      "\n",
      "Epoch 5\n",
      "-------------------------------\n",
      "loss: 94.563148  [    0/60000]\n",
      "loss: 96.203026  [ 6400/60000]\n",
      "loss: 95.644196  [12800/60000]\n",
      "loss: 94.638229  [19200/60000]\n",
      "loss: 94.506470  [25600/60000]\n",
      "loss: 94.352264  [32000/60000]\n",
      "loss: 94.542542  [38400/60000]\n",
      "loss: 95.055573  [44800/60000]\n",
      "loss: 95.309608  [51200/60000]\n",
      "loss: 96.471901  [57600/60000]\n",
      "Test Error: \n",
      " Accuracy: 97.3%, Avg loss: 94.792674 \n",
      "\n",
      "Done!\n"
     ]
    }
   ],
   "source": [
    "epochs = 5\n",
    "for t in range(epochs):\n",
    "    print(f\"Epoch {t+1}\\n-------------------------------\")\n",
    "    train(train_dataloader, model, loss_fn, optimizer)\n",
    "    test(test_dataloader, model, loss_fn)\n",
    "print(\"Done!\")"
   ]
  },
  {
   "cell_type": "code",
   "execution_count": 27,
   "metadata": {},
   "outputs": [
    {
     "name": "stdout",
     "output_type": "stream",
     "text": [
      "tensor([[0.0925, 0.0847, 0.0968, 0.0952, 0.1049, 0.1065, 0.1041, 0.1026, 0.1059,\n",
      "         0.1068]])\n"
     ]
    },
    {
     "ename": "IndexError",
     "evalue": "list index out of range",
     "output_type": "error",
     "traceback": [
      "\u001b[1;31m---------------------------------------------------------------------------\u001b[0m",
      "\u001b[1;31mIndexError\u001b[0m                                Traceback (most recent call last)",
      "\u001b[1;32m<ipython-input-27-8939fcee8491>\u001b[0m in \u001b[0;36m<module>\u001b[1;34m\u001b[0m\n\u001b[0;32m     11\u001b[0m     \u001b[0mpred\u001b[0m \u001b[1;33m=\u001b[0m \u001b[0mmodel\u001b[0m\u001b[1;33m(\u001b[0m\u001b[0mx\u001b[0m\u001b[1;33m.\u001b[0m\u001b[0munsqueeze\u001b[0m\u001b[1;33m(\u001b[0m\u001b[1;36m1\u001b[0m\u001b[1;33m)\u001b[0m\u001b[1;33m)\u001b[0m\u001b[1;33m\u001b[0m\u001b[1;33m\u001b[0m\u001b[0m\n\u001b[0;32m     12\u001b[0m     \u001b[0mprint\u001b[0m\u001b[1;33m(\u001b[0m\u001b[0mpred\u001b[0m\u001b[1;33m)\u001b[0m\u001b[1;33m\u001b[0m\u001b[1;33m\u001b[0m\u001b[0m\n\u001b[1;32m---> 13\u001b[1;33m     \u001b[0mpredicted\u001b[0m\u001b[1;33m,\u001b[0m \u001b[0mactual\u001b[0m \u001b[1;33m=\u001b[0m \u001b[0mclasses\u001b[0m\u001b[1;33m[\u001b[0m\u001b[0mpred\u001b[0m\u001b[1;33m[\u001b[0m\u001b[1;36m0\u001b[0m\u001b[1;33m]\u001b[0m\u001b[1;33m.\u001b[0m\u001b[0margmax\u001b[0m\u001b[1;33m(\u001b[0m\u001b[1;36m0\u001b[0m\u001b[1;33m)\u001b[0m\u001b[1;33m]\u001b[0m\u001b[1;33m,\u001b[0m \u001b[0mclasses\u001b[0m\u001b[1;33m[\u001b[0m\u001b[0my\u001b[0m\u001b[1;33m]\u001b[0m\u001b[1;33m\u001b[0m\u001b[1;33m\u001b[0m\u001b[0m\n\u001b[0m\u001b[0;32m     14\u001b[0m     \u001b[0mprint\u001b[0m\u001b[1;33m(\u001b[0m\u001b[1;34mf'Predicted: \"{predicted}\", Actual: \"{actual}\"'\u001b[0m\u001b[1;33m)\u001b[0m\u001b[1;33m\u001b[0m\u001b[1;33m\u001b[0m\u001b[0m\n",
      "\u001b[1;31mIndexError\u001b[0m: list index out of range"
     ]
    }
   ],
   "source": [
    "classes = [\n",
    "    \"0\", \"1\", \"2\", \"3\", \"4\"\n",
    "    \"5\", \"6\", \"7\", \"8\", \"9\"\n",
    "]\n",
    "\n",
    "model.eval()\n",
    "x, y = test_data[1][0], test_data[1][1]\n",
    "with torch.no_grad():\n",
    "    # x.unsqueeze(1): 가상으로 이미지개 여러개 있다고 바꿔줌. 이 경우, 3차원을 4차원으로 바꿔줌.\n",
    "    # 즉 차원을 하나 높여줌\n",
    "    pred = model(x.unsqueeze(1))\n",
    "    print(pred)\n",
    "    predicted, actual = classes[pred[0].argmax(0)], classes[y]\n",
    "    print(f'Predicted: \"{predicted}\", Actual: \"{actual}\"')"
   ]
  },
  {
   "cell_type": "code",
   "execution_count": 24,
   "metadata": {},
   "outputs": [
    {
     "data": {
      "text/plain": [
       "<matplotlib.image.AxesImage at 0x1d9d6372848>"
      ]
     },
     "execution_count": 24,
     "metadata": {},
     "output_type": "execute_result"
    },
    {
     "data": {
      "image/png": "[encoded data removed]",
      "text/plain": [
       "<Figure size 432x288 with 1 Axes>"
      ]
     },
     "metadata": {
      "needs_background": "light"
     },
     "output_type": "display_data"
    }
   ],
   "source": [
    "plt.imshow(x.reshape(28, 28), cmap='gist_yarg')"
   ]
  },
  {
   "cell_type": "code",
   "execution_count": null,
   "metadata": {},
   "outputs": [],
   "source": []
  }
 ],
 "metadata": {
  "kernelspec": {
   "display_name": "Python 3",
   "language": "python",
   "name": "python3"
  },
  "language_info": {
   "codemirror_mode": {
    "name": "ipython",
    "version": 3
   },
   "file_extension": ".py",
   "mimetype": "text/x-python",
   "name": "python",
   "nbconvert_exporter": "python",
   "pygments_lexer": "ipython3",
   "version": "3.7.5"
  }
 },
 "nbformat": 4,
 "nbformat_minor": 4
}
